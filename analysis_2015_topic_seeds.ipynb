{
 "cells": [
  {
   "cell_type": "raw",
   "id": "3ad7704a-2941-4fc7-878d-f91f6adeb946",
   "metadata": {},
   "source": [
    "reasons to consider only rich and poor contexts as opposed to unspecified? ...\n",
    "\n",
    "    i) unspecified == neutral wealth context; ii) some topics reasonable reference wealth status, indeed its why were are investigaging them, hence how informative is 'unspecified' really, in the context of these topics? (which is reasonably why rich/neutral and poor/neutral > 1)\n"
   ]
  },
  {
   "cell_type": "code",
   "execution_count": 27,
   "id": "1b61e03c",
   "metadata": {},
   "outputs": [],
   "source": [
    "import sqlite3\n",
    "import pandas as pd\n",
    "import pathlib\n",
    "import json\n",
    "import re\n",
    "from tqdm import tqdm\n",
    "from bertopic import BERTopic\n",
    "import pickle\n",
    "import bz2\n",
    "from tqdm.contrib.concurrent import process_map\n",
    "from collections import defaultdict\n",
    "import pymc as pm\n",
    "import numpy as np\n",
    "import matplotlib.pyplot as plt\n",
    "import arviz as az\n",
    "from itertools import cycle\n",
    "from scipy.stats import bernoulli\n",
    "import random\n",
    "from operator import concat\n",
    "from functools import reduce"
   ]
  },
  {
   "cell_type": "markdown",
   "id": "9ad403aa",
   "metadata": {},
   "source": [
    "see get_seeded_mp.py for the script to pull comments from the reddit data wrt., seed terms\n",
    "\n",
    "see cut_comments which takes the comments.json and indices.json output from get_seeded_mp.py and extracts, for this analysis, the 2015 'poor comments'\n",
    "\n",
    "see topic_model.py which performs topic modelling on the above 2015 poor comments subset. see the script for details"
   ]
  },
  {
   "cell_type": "code",
   "execution_count": 28,
   "id": "c7c0a03b",
   "metadata": {},
   "outputs": [
    {
     "data": {
      "text/plain": [
       "'3.10.4 (main, Mar 31 2022, 03:37:37) [Clang 12.0.0 ]'"
      ]
     },
     "execution_count": 28,
     "metadata": {},
     "output_type": "execute_result"
    }
   ],
   "source": [
    "import sys\n",
    "sys.version"
   ]
  },
  {
   "cell_type": "markdown",
   "id": "91f8a137",
   "metadata": {},
   "source": [
    "## Load comments, indices, config"
   ]
  },
  {
   "cell_type": "code",
   "execution_count": 29,
   "id": "fc6f1e2d-fc2f-4221-9e4d-cb54f42ec255",
   "metadata": {},
   "outputs": [],
   "source": [
    "with open('config.json', 'r', encoding='utf-8') as f:\n",
    "    config = json.load(f)"
   ]
  },
  {
   "cell_type": "code",
   "execution_count": 30,
   "id": "ae444913",
   "metadata": {},
   "outputs": [],
   "source": [
    "with open('comments.json', 'r', encoding='utf-8') as f:\n",
    "    comments = json.load(f)"
   ]
  },
  {
   "cell_type": "code",
   "execution_count": 31,
   "id": "a71cc70f",
   "metadata": {},
   "outputs": [
    {
     "name": "stderr",
     "output_type": "stream",
     "text": [
      "100%|███████████████████████████████████████████| 41/41 [00:00<00:00, 61.39it/s]\n"
     ]
    }
   ],
   "source": [
    "with open('indices.json', 'r', encoding='utf-8') as f:\n",
    "    indices = json.load(f)\n",
    "indices = {k:[tuple(p) for p in indices[k]] for k in tqdm(indices.keys())}"
   ]
  },
  {
   "cell_type": "markdown",
   "id": "87da4d43",
   "metadata": {},
   "source": [
    "## Load the topic_model"
   ]
  },
  {
   "cell_type": "code",
   "execution_count": 32,
   "id": "365cc443",
   "metadata": {},
   "outputs": [],
   "source": [
    "from sentence_transformers import SentenceTransformer\n",
    "embedding_model = SentenceTransformer(\"all-MiniLM-L6-v2\")\n",
    "topic_model = BERTopic.load(\"topic_model.safetensors\", embedding_model=embedding_model)"
   ]
  },
  {
   "cell_type": "markdown",
   "id": "9b69cfdc-f50b-4083-93b5-80b67122b64e",
   "metadata": {},
   "source": [
    "### get a dataframe of topics wrt., all comments"
   ]
  },
  {
   "cell_type": "code",
   "execution_count": 33,
   "id": "937fed41-4379-402b-a807-ce900f49d646",
   "metadata": {},
   "outputs": [],
   "source": [
    "ordered_comments = reduce(concat, [comments[seed] for seed in comments.keys()])\n",
    "df_topic = topic_model.get_document_info(ordered_comments)"
   ]
  },
  {
   "cell_type": "code",
   "execution_count": 34,
   "id": "92159c68-c9ab-4ca9-a713-0935b0b91658",
   "metadata": {},
   "outputs": [
    {
     "data": {
      "text/plain": [
       "(1904437, 7)"
      ]
     },
     "execution_count": 34,
     "metadata": {},
     "output_type": "execute_result"
    }
   ],
   "source": [
    "df_topic.shape"
   ]
  },
  {
   "cell_type": "markdown",
   "id": "d51c67ef-09b9-4d60-86d9-4fb99695f625",
   "metadata": {},
   "source": [
    "### collapse rows which are the same comment (have the same comment index)"
   ]
  },
  {
   "cell_type": "code",
   "execution_count": 35,
   "id": "70dac124-1d98-4a41-b0ad-1e2268a95a17",
   "metadata": {},
   "outputs": [],
   "source": [
    "df_topic['index'] = [index for seed in indices.keys() for index in indices[seed]]\n",
    "df_topic = df_topic.drop_duplicates(subset=['index'], keep='first')"
   ]
  },
  {
   "cell_type": "code",
   "execution_count": 36,
   "id": "ddbdc382-d755-4f5f-8132-8035016d5c40",
   "metadata": {},
   "outputs": [
    {
     "data": {
      "text/plain": [
       "(1830354, 8)"
      ]
     },
     "execution_count": 36,
     "metadata": {},
     "output_type": "execute_result"
    }
   ],
   "source": [
    "df_topic.shape"
   ]
  },
  {
   "cell_type": "markdown",
   "id": "16716c1e-502f-4748-9d10-4cadd5cc0113",
   "metadata": {},
   "source": [
    "## rows by context type"
   ]
  },
  {
   "cell_type": "code",
   "execution_count": 37,
   "id": "e86b5a05-a4b8-4df5-ae6d-b881829faa00",
   "metadata": {},
   "outputs": [],
   "source": [
    "poor_indices = set([index for seed in config['wealth_seeds']['poor_seeds'] for index in indices[seed]])\n",
    "rich_indices = set([index for seed in config['wealth_seeds']['rich_seeds'] for index in indices[seed]])\n",
    "neutral_indices = set(indices['neutral_sample'])\n",
    "black_indices = set([index for seed in config['other_seeds']['black_seeds'] for index in indices[seed]])\n",
    "n_indices = set([index for seed in config['other_seeds']['n_seeds'] for index in indices[seed]])"
   ]
  },
  {
   "cell_type": "code",
   "execution_count": 38,
   "id": "283c62bf-807f-4fec-8be9-27821b09f287",
   "metadata": {},
   "outputs": [
    {
     "data": {
      "text/plain": [
       "14397"
      ]
     },
     "metadata": {},
     "output_type": "display_data"
    },
    {
     "data": {
      "text/plain": [
       "4395"
      ]
     },
     "metadata": {},
     "output_type": "display_data"
    },
    {
     "data": {
      "text/plain": [
       "995"
      ]
     },
     "metadata": {},
     "output_type": "display_data"
    },
    {
     "data": {
      "text/plain": [
       "413"
      ]
     },
     "metadata": {},
     "output_type": "display_data"
    },
    {
     "data": {
      "text/plain": [
       "290"
      ]
     },
     "metadata": {},
     "output_type": "display_data"
    }
   ],
   "source": [
    "display(len(poor_indices.intersection(rich_indices)))\n",
    "display(len(poor_indices.intersection(black_indices)))\n",
    "display(len(neutral_indices.intersection(black_indices)))\n",
    "display(len(poor_indices.intersection(n_indices)))\n",
    "display(len(neutral_indices.intersection(n_indices)))"
   ]
  },
  {
   "cell_type": "code",
   "execution_count": 39,
   "id": "4051dff9-09a2-406f-be76-d9fb9ac4320d",
   "metadata": {},
   "outputs": [],
   "source": [
    "# pure poor_context indices (as not coincident with rich) and vice-versa\n",
    "poor_indices_pure = poor_indices - rich_indices\n",
    "rich_indices_pure = rich_indices - poor_indices"
   ]
  },
  {
   "cell_type": "markdown",
   "id": "4226b00c-7b5a-4735-9ed1-d51d1c2c6415",
   "metadata": {},
   "source": [
    "# RQ1"
   ]
  },
  {
   "cell_type": "markdown",
   "id": "7d9bc4ae-d1f9-4785-b907-f87f5de6df51",
   "metadata": {},
   "source": [
    "## flag comments as containing a key word from selected topics"
   ]
  },
  {
   "cell_type": "code",
   "execution_count": 40,
   "id": "4a2ec301-b35f-495e-872e-6b0f00a6e86c",
   "metadata": {},
   "outputs": [],
   "source": [
    "RQ1_selected = [\n",
    "    ('police', 'cops ', 'police officer', 'cop ',), \n",
    "    ('prison', 'jail', 'prisons'),\n",
    "    ('fast food', \"mcdonalds\", \"McDonalds\", \"mcdonald's\", \"McDonald's\"),\n",
    "    ('abortion', 'abortions', 'birth control'),\n",
    "    ('drug testing', 'drug test'),\n",
    "    ('fat people', 'obese', 'obesity', 'overweight', 'fatties'),\n",
    "    ('relationship', 'attractive', 'dating'),\n",
    "    ('marijuana', 'cannabis'),\n",
    "    ('automation', 'AI'),\n",
    "    ('mental illness', 'mentally ill'),\n",
    "    ('heroin',),\n",
    "    ('addiction', 'addict ', 'addicts'),\n",
    "]"
   ]
  },
  {
   "cell_type": "code",
   "execution_count": 41,
   "id": "6e80afcb-53fa-4f18-a576-ae4575b45e01",
   "metadata": {},
   "outputs": [
    {
     "name": "stderr",
     "output_type": "stream",
     "text": [
      "100%|███████████████████████████████████████████| 12/12 [00:26<00:00,  2.23s/it]\n"
     ]
    }
   ],
   "source": [
    "# flag comments by topic name\n",
    "for words in tqdm(RQ1_selected):\n",
    "    df_topic[\"_\".join(words)] = [True if any([seed in comment for seed in words]) else False for comment in df_topic['Document']]\n",
    "\n",
    "for words in [(' a ', ' an ', ' the ')]:  # topics\n",
    "    df_topic[\"_\".join(words)] = [True if any([seed in comment for seed in words]) else False for comment in df_topic['Document']]\n"
   ]
  },
  {
   "cell_type": "markdown",
   "id": "5d47917d-babe-40b1-b8ee-474180956d20",
   "metadata": {},
   "source": [
    "### how many of the seed groups do we see?"
   ]
  },
  {
   "cell_type": "code",
   "execution_count": 42,
   "id": "79db0025-89f5-4f27-9596-cb879ea55360",
   "metadata": {},
   "outputs": [
    {
     "name": "stdout",
     "output_type": "stream",
     "text": [
      "police_cops _police officer_cop  40515\n",
      "prison_jail_prisons 18968\n",
      "fast food_mcdonalds_McDonalds_mcdonald's_McDonald's 4453\n",
      "abortion_abortions_birth control 4263\n",
      "drug testing_drug test 953\n",
      "fat people_obese_obesity_overweight_fatties 5030\n",
      "relationship_attractive_dating 22947\n",
      "marijuana_cannabis 2563\n",
      "automation_AI 7862\n",
      "mental illness_mentally ill 4635\n",
      "heroin 1892\n",
      "addiction_addict _addicts 5574\n"
     ]
    }
   ],
   "source": [
    "for words in RQ1_selected:\n",
    "    print(\n",
    "        \"_\".join(words), \n",
    "        len(df_topic.loc[df_topic.loc[:,\"_\".join(words)]==True, :])\n",
    "    )"
   ]
  },
  {
   "cell_type": "markdown",
   "id": "da96c75a-f85e-4efb-85da-60bc5afc1851",
   "metadata": {},
   "source": [
    "# RQ1: Examine relative proportions of selected topics (deemed negative in their association)"
   ]
  },
  {
   "cell_type": "code",
   "execution_count": 44,
   "id": "e9ba107f-5b76-42d7-9a82-ef442a9d0d2f",
   "metadata": {},
   "outputs": [],
   "source": [
    "# pure poor_context indices (as not coincident with rich) and vice-versa\n",
    "poor_indices_pure = poor_indices - rich_indices\n",
    "rich_indices_pure = rich_indices - poor_indices"
   ]
  },
  {
   "cell_type": "code",
   "execution_count": 23,
   "id": "d97a5980-04ee-4177-b6f5-4a012ce53033",
   "metadata": {},
   "outputs": [
    {
     "name": "stdout",
     "output_type": "stream",
     "text": [
      "police_cops _police officer_cop \n",
      "7737\n",
      "5228\n",
      "risk ratio point estimate: P(poor,police_cops _police officer_cop ) / P(rich,police_cops _police officer_cop ) = 1.900430807308061\n",
      "\n",
      "\n",
      "prison_jail_prisons\n",
      "5082\n",
      "4100\n",
      "risk ratio point estimate: P(poor,prison_jail_prisons) / P(rich,prison_jail_prisons) = 1.5917169757107108\n",
      "\n",
      "\n",
      "fast food_mcdonalds_McDonalds_mcdonald's_McDonald's\n",
      "2067\n",
      "1036\n",
      "risk ratio point estimate: P(poor,fast food_mcdonalds_McDonalds_mcdonald's_McDonald's) / P(rich,fast food_mcdonalds_McDonalds_mcdonald's_McDonald's) = 2.5620981642483276\n",
      "\n",
      "\n",
      "abortion_abortions_birth control\n",
      "1379\n",
      "1013\n",
      "risk ratio point estimate: P(poor,abortion_abortions_birth control) / P(rich,abortion_abortions_birth control) = 1.7481144587056163\n",
      "\n",
      "\n",
      "drug testing_drug test\n",
      "694\n",
      "78\n",
      "risk ratio point estimate: P(poor,drug testing_drug test) / P(rich,drug testing_drug test) = 11.425623575130063\n",
      "\n",
      "\n",
      "fat people_obese_obesity_overweight_fatties\n",
      "1450\n",
      "754\n",
      "risk ratio point estimate: P(poor,fat people_obese_obesity_overweight_fatties) / P(rich,fat people_obese_obesity_overweight_fatties) = 2.469515181944538\n",
      "\n",
      "\n",
      "relationship_attractive_dating\n",
      "3685\n",
      "6022\n",
      "risk ratio point estimate: P(poor,relationship_attractive_dating) / P(rich,relationship_attractive_dating) = 0.7857995668618605\n",
      "\n",
      "\n",
      "marijuana_cannabis\n",
      "536\n",
      "573\n",
      "risk ratio point estimate: P(poor,marijuana_cannabis) / P(rich,marijuana_cannabis) = 1.2012273499329522\n",
      "\n",
      "\n",
      "automation_AI\n",
      "1205\n",
      "2073\n",
      "risk ratio point estimate: P(poor,automation_AI) / P(rich,automation_AI) = 0.7464535518603219\n",
      "\n",
      "\n",
      "mental illness_mentally ill\n",
      "3331\n",
      "359\n",
      "risk ratio point estimate: P(poor,mental illness_mentally ill) / P(rich,mental illness_mentally ill) = 11.915032414901875\n",
      "\n",
      "\n",
      "heroin\n",
      "979\n",
      "316\n",
      "risk ratio point estimate: P(poor,heroin) / P(rich,heroin) = 3.978420217798498\n",
      "\n",
      "\n",
      "addiction_addict _addicts\n",
      "3708\n",
      "625\n",
      "risk ratio point estimate: P(poor,addiction_addict _addicts) / P(rich,addiction_addict _addicts) = 7.618592629149089\n",
      "\n",
      "\n"
     ]
    }
   ],
   "source": [
    "for words in RQ1_selected:  # topics\n",
    "\n",
    "    name = \"_\".join(words)\n",
    "    print(name)\n",
    "    \n",
    "    c_rich = len(df_topic.loc[(df_topic.loc[:, 'index'].isin(rich_indices_pure)) & (df_topic.loc[:, name]==True), :])\n",
    "    c_poor = len(df_topic.loc[(df_topic.loc[:, 'index'].isin(poor_indices_pure)) & (df_topic.loc[:, name]==True), :])\n",
    "    # c_neutral = len(df_topic.loc[(df_topic.loc[:, 'index'].isin(neutral_indices)) & (df_topic.loc[:, 'a_an_the']==True) & (df_topic.loc[:, name]==True), :])\n",
    "\n",
    "    print(c_poor)\n",
    "    print(c_rich)\n",
    "    # print(c_neutral)\n",
    "    \n",
    "    print(f'risk ratio point estimate: P(poor,{name}) / P(rich,{name}) = {(c_poor / len(poor_indices_pure)) / (c_rich / len(rich_indices))}')\n",
    "    # print(f'risk ratio point estimate: P(poor,{name}) / P(neutral,{name}) = {(c_poor / len(poor_indices_pure)) / (c_neutral / len(neutral_indices))}')\n",
    "    # print(f'risk ratio point estimate: P(rich,{name}) / P(neutral,{name}) = {(c_rich / len(rich_indices_pure)) / (c_neutral / len(neutral_indices))}')\n",
    "    \n",
    "    print('\\n')"
   ]
  },
  {
   "cell_type": "code",
   "execution_count": 24,
   "id": "2736217c-49d8-4aa9-8d71-7755b487f3ec",
   "metadata": {},
   "outputs": [
    {
     "name": "stdout",
     "output_type": "stream",
     "text": [
      "a_an_the\n",
      "199272\n",
      "242920\n",
      "risk ratio point estimate: P(poor,a_an_the) / P(rich,a_an_the) = 1.0534114904287628\n",
      "\n",
      "\n",
      "this_that_these_those\n",
      "132056\n",
      "169733\n",
      "risk ratio point estimate: P(poor,this_that_these_those) / P(rich,this_that_these_those) = 0.9990952517823364\n",
      "\n",
      "\n"
     ]
    }
   ],
   "source": [
    "# consider neutral topics\n",
    "for words in [('a', 'an', 'the'), (\"this\", \"that\", \"these\", \"those\")]:  # topics\n",
    "\n",
    "    df_topic[\"_\".join(words)] = [True if any([seed in comment for seed in words]) else False for comment in df_topic['Document']]\n",
    "\n",
    "    name = \"_\".join(words)\n",
    "    print(name)\n",
    "    \n",
    "    c_rich = len(df_topic.loc[(df_topic.loc[:, 'index'].isin(rich_indices_pure)) & (df_topic.loc[:, name]==True), :])\n",
    "    c_poor = len(df_topic.loc[(df_topic.loc[:, 'index'].isin(poor_indices_pure)) & (df_topic.loc[:, name]==True), :])\n",
    "    # c_neutral = len(df_topic.loc[(df_topic.loc[:, 'index'].isin(neutral_indices)) & (df_topic.loc[:, name]==True), :])\n",
    "\n",
    "    print(c_poor)\n",
    "    print(c_rich)\n",
    "    # print(c_neutral)\n",
    "    \n",
    "    print(f'risk ratio point estimate: P(poor,{name}) / P(rich,{name}) = {(c_poor / len(poor_indices_pure)) / (c_rich / len(rich_indices))}')\n",
    "    # print(f'risk ratio point estimate: P(poor,{name}) / P(neutral,{name}) = {(c_poor / len(poor_indices_pure)) / (c_neutral / len(neutral_indices))}')\n",
    "    # print(f'risk ratio point estimate: P(rich,{name}) / P(neutral,{name}) = {(c_rich / len(rich_indices_pure)) / (c_neutral / len(neutral_indices))}')\n",
    "    \n",
    "    print('\\n')"
   ]
  },
  {
   "cell_type": "markdown",
   "id": "87522bae",
   "metadata": {},
   "source": [
    "# Bayesian estimation wrt., binomial outcomes"
   ]
  },
  {
   "cell_type": "markdown",
   "id": "7c290913",
   "metadata": {},
   "source": [
    "## helper functions"
   ]
  },
  {
   "cell_type": "code",
   "execution_count": 25,
   "id": "dcef340b",
   "metadata": {},
   "outputs": [],
   "source": [
    "def plot_posterior_estimates(trace):\n",
    "    \"\"\" Plot posterior parameter distributions, i.e., P(parameter=value | data)\n",
    "    \"\"\"\n",
    "    var_names = [name for name in trace.posterior]\n",
    "    for i, var_name in enumerate(var_names):\n",
    "        az.plot_trace(data=trace, var_names=[var_name])\n",
    "    \n",
    "def plot_posterior_predictive_checks(model, trace, size=1000):\n",
    "    \"\"\" Plot (hist) predictions of estimand (based on parameter posteriors) against the observed \n",
    "    \"\"\"\n",
    "    \n",
    "    # get estimand predictions based on param posteriors\n",
    "    with model: \n",
    "        post_pred: arviz.data.inference_data.InferenceData = pm.sample_posterior_predictive(trace, extend_inferencedata=False)\n",
    "        # don't add to trace\n",
    "            \n",
    "    # for each estimate record (predictions, observed) for each estimand\n",
    "    d = {}\n",
    "    n = len(post_pred.posterior_predictive)\n",
    "    for i, name in enumerate(post_pred.posterior_predictive):\n",
    "        \n",
    "        # get a random sample (with replacement) of predictions from stack predictions accross draws and chains\n",
    "        p_dims = post_pred.posterior_predictive[name].dims\n",
    "        p: np.ndarray = np.random.choice(post_pred.posterior_predictive[name].stack(sample=p_dims).to_numpy(), size, replace=True)\n",
    "            \n",
    "#         p: xarray.core.dataarray.DataArray = post_pred.posterior_predictive[name].mean(sample=('chain', 'draw'))  \n",
    "            \n",
    "        o: np.ndarray = post_pred.observed_data[name].to_numpy()\n",
    "        d[name] = (p,o)  # (predicted, observed)\n",
    "        \n",
    "    # plot observed vs predicted for each estimand\n",
    "    fig, axs = plt.subplots(n)\n",
    "    fig.tight_layout(h_pad=4)\n",
    "    for i, name in enumerate(post_pred.posterior_predictive):\n",
    "\n",
    "        if n > 1:\n",
    "            plt.sca(axs[i])\n",
    "        else:\n",
    "            pass\n",
    "        plt.hist([d[name][0], d[name][1]], label=['predicted', 'observed'], density=True)\n",
    "        plt.xlabel(name)\n",
    "        plt.ylabel(\"density\")\n",
    "        plt.legend()\n",
    "        plt.xticks(rotation=90)\n",
    "        \n",
    "    return d\n",
    "    \n",
    "def plot_posterior_estimates_contrast(trace, pairs=[], kind='kde'):\n",
    "    \"\"\" For each param1, param2 pair in 'pairs' ...\n",
    "            plot distribution of corresponding (param1 - param2) estimates.\n",
    "            \n",
    "        Note: also return each pair contrast. I.e., returned[i] is a contrast dist. corresponding to pairs[i]\n",
    "    \"\"\"\n",
    "    contrasts = []\n",
    "    \n",
    "    fig, axs = plt.subplots(1)\n",
    "    fig.tight_layout()\n",
    "    \n",
    "    # plot contrasts\n",
    "    for i, (x,y) in enumerate(pairs):\n",
    "        \n",
    "        pc = (trace.posterior[x] - trace.posterior[y]).stack(sample=('chain', 'draw')).to_numpy()  # 1D array, dim=chains * draws\n",
    "        az.plot_dist(pc, color=f'C{i}', kind=kind, label=f'{x}-{y}')\n",
    "        \n",
    "        contrasts.append(pc)\n",
    "        \n",
    "    plt.xlabel(f\"posterior estimates contrast\")\n",
    "    plt.ylabel(\"density\")\n",
    "    plt.legend()\n",
    "        \n",
    "    return contrasts\n",
    "        \n",
    "        \n",
    "def plot_posterior_predictions_contrast(model, trace, pairs=[], size=1000)->list:\n",
    "    \"\"\" For each estimand1, estimand2 'pair' in 'pairs' ...\n",
    "            plot the distribution of corresponding (estimand1 - estimand2) samples\n",
    "    \n",
    "        Note: also return each contrast. I.e., returned[i] is a contract dist. corresponding to pairs[i]\n",
    "        where returned 1 is a 1D numpy array\n",
    "    \"\"\"\n",
    "    \n",
    "    returned=[]\n",
    "    \n",
    "    # get posterior predictions\n",
    "    with model:\n",
    "        post_pred = pm.sample_posterior_predictive(trace, extend_inferencedata=False)\n",
    "    preds = {name: post_pred.posterior_predictive[name] for name in post_pred.posterior_predictive} \n",
    "    # NOTE: e.g., preds[var].shape=(chains, draws, datapoints)\n",
    "        \n",
    "    fig, axs = plt.subplots(len(pairs))\n",
    "    fig.tight_layout()\n",
    "    \n",
    "    \n",
    "    for i, (name1, name2) in enumerate(pairs):\n",
    "        \n",
    "        # if more than one plot, set current\n",
    "        try:\n",
    "            plt.sca(axs[i])\n",
    "        except:\n",
    "            pass\n",
    "        \n",
    "        # Note xarray of dims (chain, draw, m) - x array of dims (chain, draw, f) would yield an\n",
    "        # an array of dims (chain, draw, m, f) i.e., all possible differences accross all m,f permutations for a draw, chain combo\n",
    "        # this becomes very slow for larger samples ... hence we just randomnly select some ... and take the diff.\n",
    "        \n",
    "        # plot contrast\n",
    "        sample1 = np.random.choice(preds[name1].stack(sample=(preds[name1].dims)).to_numpy(), size, replace=True)\n",
    "        sample2 = np.random.choice(preds[name2].stack(sample=(preds[name2].dims)).to_numpy(), size, replace=True)\n",
    "        ppc = sample1 - sample2\n",
    "        az.plot_dist(ppc, color='k', plot_kwargs=dict(linewidth=3))\n",
    "        plt.xticks(rotation=90)\n",
    "        \n",
    "        plt.xlabel(f\"({name1}-{name2})\\nposterior prediction contrast\")\n",
    "        plt.ylabel(\"density\")\n",
    "        plt.legend()\n",
    "        \n",
    "        returned.append(ppc)\n",
    "        \n",
    "    return returned\n",
    "\n",
    "def compat_interval(d: np.ndarray, CI=0.89)->tuple[float]:\n",
    "    lb = (1-CI)/2\n",
    "    ub = CI+lb\n",
    "    return '%.3E' % np.quantile(d, lb), '%.3E' % np.quantile(d, ub)\n",
    "\n"
   ]
  },
  {
   "cell_type": "markdown",
   "id": "b44eaaf7-694d-46af-8fc0-731c4d36fde5",
   "metadata": {},
   "source": [
    "### Estimator"
   ]
  },
  {
   "cell_type": "code",
   "execution_count": 26,
   "id": "0e700906",
   "metadata": {},
   "outputs": [
    {
     "name": "stderr",
     "output_type": "stream",
     "text": [
      "Auto-assigning NUTS sampler...\n",
      "Initializing NUTS using jitter+adapt_diag...\n",
      "Multiprocess sampling (4 chains in 4 jobs)\n",
      "NUTS: [param]\n"
     ]
    },
    {
     "data": {
      "text/html": [
       "\n",
       "<style>\n",
       "    /* Turns off some styling */\n",
       "    progress {\n",
       "        /* gets rid of default border in Firefox and Opera. */\n",
       "        border: none;\n",
       "        /* Needs to be in here for Safari polyfill so background images work as expected. */\n",
       "        background-size: auto;\n",
       "    }\n",
       "    progress:not([value]), progress:not([value])::-webkit-progress-bar {\n",
       "        background: repeating-linear-gradient(45deg, #7e7e7e, #7e7e7e 10px, #5c5c5c 10px, #5c5c5c 20px);\n",
       "    }\n",
       "    .progress-bar-interrupted, .progress-bar-interrupted::-webkit-progress-bar {\n",
       "        background: #F44336;\n",
       "    }\n",
       "</style>\n"
      ],
      "text/plain": [
       "<IPython.core.display.HTML object>"
      ]
     },
     "metadata": {},
     "output_type": "display_data"
    },
    {
     "data": {
      "text/html": [
       "\n",
       "    <div>\n",
       "      <progress value='8000' class='' max='8000' style='width:300px; height:20px; vertical-align: middle;'></progress>\n",
       "      100.00% [8000/8000 00:00&lt;00:00 Sampling 4 chains, 0 divergences]\n",
       "    </div>\n",
       "    "
      ],
      "text/plain": [
       "<IPython.core.display.HTML object>"
      ]
     },
     "metadata": {},
     "output_type": "display_data"
    },
    {
     "name": "stderr",
     "output_type": "stream",
     "text": [
      "Sampling 4 chains for 1_000 tune and 1_000 draw iterations (4_000 + 4_000 draws total) took 0 seconds.\n",
      "Auto-assigning NUTS sampler...\n",
      "Initializing NUTS using jitter+adapt_diag...\n",
      "Multiprocess sampling (4 chains in 4 jobs)\n",
      "NUTS: [param]\n"
     ]
    },
    {
     "data": {
      "text/html": [
       "\n",
       "<style>\n",
       "    /* Turns off some styling */\n",
       "    progress {\n",
       "        /* gets rid of default border in Firefox and Opera. */\n",
       "        border: none;\n",
       "        /* Needs to be in here for Safari polyfill so background images work as expected. */\n",
       "        background-size: auto;\n",
       "    }\n",
       "    progress:not([value]), progress:not([value])::-webkit-progress-bar {\n",
       "        background: repeating-linear-gradient(45deg, #7e7e7e, #7e7e7e 10px, #5c5c5c 10px, #5c5c5c 20px);\n",
       "    }\n",
       "    .progress-bar-interrupted, .progress-bar-interrupted::-webkit-progress-bar {\n",
       "        background: #F44336;\n",
       "    }\n",
       "</style>\n"
      ],
      "text/plain": [
       "<IPython.core.display.HTML object>"
      ]
     },
     "metadata": {},
     "output_type": "display_data"
    },
    {
     "data": {
      "text/html": [
       "\n",
       "    <div>\n",
       "      <progress value='8000' class='' max='8000' style='width:300px; height:20px; vertical-align: middle;'></progress>\n",
       "      100.00% [8000/8000 00:00&lt;00:00 Sampling 4 chains, 0 divergences]\n",
       "    </div>\n",
       "    "
      ],
      "text/plain": [
       "<IPython.core.display.HTML object>"
      ]
     },
     "metadata": {},
     "output_type": "display_data"
    },
    {
     "name": "stderr",
     "output_type": "stream",
     "text": [
      "Sampling 4 chains for 1_000 tune and 1_000 draw iterations (4_000 + 4_000 draws total) took 0 seconds.\n"
     ]
    },
    {
     "name": "stdout",
     "output_type": "stream",
     "text": [
      "police_cops _police officer_cop  RR: poor/rich 1.702770233588673 1.8806742167372492\n",
      "police_cops _police officer_cop  OR: poor/rich 1.7302517222297742 1.9162832618242438\n"
     ]
    },
    {
     "name": "stderr",
     "output_type": "stream",
     "text": [
      "Auto-assigning NUTS sampler...\n",
      "Initializing NUTS using jitter+adapt_diag...\n",
      "Multiprocess sampling (4 chains in 4 jobs)\n",
      "NUTS: [param]\n"
     ]
    },
    {
     "data": {
      "text/html": [
       "\n",
       "<style>\n",
       "    /* Turns off some styling */\n",
       "    progress {\n",
       "        /* gets rid of default border in Firefox and Opera. */\n",
       "        border: none;\n",
       "        /* Needs to be in here for Safari polyfill so background images work as expected. */\n",
       "        background-size: auto;\n",
       "    }\n",
       "    progress:not([value]), progress:not([value])::-webkit-progress-bar {\n",
       "        background: repeating-linear-gradient(45deg, #7e7e7e, #7e7e7e 10px, #5c5c5c 10px, #5c5c5c 20px);\n",
       "    }\n",
       "    .progress-bar-interrupted, .progress-bar-interrupted::-webkit-progress-bar {\n",
       "        background: #F44336;\n",
       "    }\n",
       "</style>\n"
      ],
      "text/plain": [
       "<IPython.core.display.HTML object>"
      ]
     },
     "metadata": {},
     "output_type": "display_data"
    },
    {
     "data": {
      "text/html": [
       "\n",
       "    <div>\n",
       "      <progress value='8000' class='' max='8000' style='width:300px; height:20px; vertical-align: middle;'></progress>\n",
       "      100.00% [8000/8000 00:00&lt;00:00 Sampling 4 chains, 0 divergences]\n",
       "    </div>\n",
       "    "
      ],
      "text/plain": [
       "<IPython.core.display.HTML object>"
      ]
     },
     "metadata": {},
     "output_type": "display_data"
    },
    {
     "name": "stderr",
     "output_type": "stream",
     "text": [
      "Sampling 4 chains for 1_000 tune and 1_000 draw iterations (4_000 + 4_000 draws total) took 0 seconds.\n",
      "Auto-assigning NUTS sampler...\n",
      "Initializing NUTS using jitter+adapt_diag...\n",
      "Multiprocess sampling (4 chains in 4 jobs)\n",
      "NUTS: [param]\n"
     ]
    },
    {
     "data": {
      "text/html": [
       "\n",
       "<style>\n",
       "    /* Turns off some styling */\n",
       "    progress {\n",
       "        /* gets rid of default border in Firefox and Opera. */\n",
       "        border: none;\n",
       "        /* Needs to be in here for Safari polyfill so background images work as expected. */\n",
       "        background-size: auto;\n",
       "    }\n",
       "    progress:not([value]), progress:not([value])::-webkit-progress-bar {\n",
       "        background: repeating-linear-gradient(45deg, #7e7e7e, #7e7e7e 10px, #5c5c5c 10px, #5c5c5c 20px);\n",
       "    }\n",
       "    .progress-bar-interrupted, .progress-bar-interrupted::-webkit-progress-bar {\n",
       "        background: #F44336;\n",
       "    }\n",
       "</style>\n"
      ],
      "text/plain": [
       "<IPython.core.display.HTML object>"
      ]
     },
     "metadata": {},
     "output_type": "display_data"
    },
    {
     "data": {
      "text/html": [
       "\n",
       "    <div>\n",
       "      <progress value='8000' class='' max='8000' style='width:300px; height:20px; vertical-align: middle;'></progress>\n",
       "      100.00% [8000/8000 00:00&lt;00:00 Sampling 4 chains, 0 divergences]\n",
       "    </div>\n",
       "    "
      ],
      "text/plain": [
       "<IPython.core.display.HTML object>"
      ]
     },
     "metadata": {},
     "output_type": "display_data"
    },
    {
     "name": "stderr",
     "output_type": "stream",
     "text": [
      "Sampling 4 chains for 1_000 tune and 1_000 draw iterations (4_000 + 4_000 draws total) took 0 seconds.\n"
     ]
    },
    {
     "name": "stdout",
     "output_type": "stream",
     "text": [
      "prison_jail_prisons RR: poor/rich 1.3964148181263731 1.5824090858540885\n",
      "prison_jail_prisons OR: poor/rich 1.4063152477568384 1.597926762053228\n"
     ]
    },
    {
     "name": "stderr",
     "output_type": "stream",
     "text": [
      "Auto-assigning NUTS sampler...\n",
      "Initializing NUTS using jitter+adapt_diag...\n",
      "Multiprocess sampling (4 chains in 4 jobs)\n",
      "NUTS: [param]\n"
     ]
    },
    {
     "data": {
      "text/html": [
       "\n",
       "<style>\n",
       "    /* Turns off some styling */\n",
       "    progress {\n",
       "        /* gets rid of default border in Firefox and Opera. */\n",
       "        border: none;\n",
       "        /* Needs to be in here for Safari polyfill so background images work as expected. */\n",
       "        background-size: auto;\n",
       "    }\n",
       "    progress:not([value]), progress:not([value])::-webkit-progress-bar {\n",
       "        background: repeating-linear-gradient(45deg, #7e7e7e, #7e7e7e 10px, #5c5c5c 10px, #5c5c5c 20px);\n",
       "    }\n",
       "    .progress-bar-interrupted, .progress-bar-interrupted::-webkit-progress-bar {\n",
       "        background: #F44336;\n",
       "    }\n",
       "</style>\n"
      ],
      "text/plain": [
       "<IPython.core.display.HTML object>"
      ]
     },
     "metadata": {},
     "output_type": "display_data"
    },
    {
     "data": {
      "text/html": [
       "\n",
       "    <div>\n",
       "      <progress value='8000' class='' max='8000' style='width:300px; height:20px; vertical-align: middle;'></progress>\n",
       "      100.00% [8000/8000 00:00&lt;00:00 Sampling 4 chains, 0 divergences]\n",
       "    </div>\n",
       "    "
      ],
      "text/plain": [
       "<IPython.core.display.HTML object>"
      ]
     },
     "metadata": {},
     "output_type": "display_data"
    },
    {
     "name": "stderr",
     "output_type": "stream",
     "text": [
      "Sampling 4 chains for 1_000 tune and 1_000 draw iterations (4_000 + 4_000 draws total) took 0 seconds.\n",
      "Auto-assigning NUTS sampler...\n",
      "Initializing NUTS using jitter+adapt_diag...\n",
      "Multiprocess sampling (4 chains in 4 jobs)\n",
      "NUTS: [param]\n"
     ]
    },
    {
     "data": {
      "text/html": [
       "\n",
       "<style>\n",
       "    /* Turns off some styling */\n",
       "    progress {\n",
       "        /* gets rid of default border in Firefox and Opera. */\n",
       "        border: none;\n",
       "        /* Needs to be in here for Safari polyfill so background images work as expected. */\n",
       "        background-size: auto;\n",
       "    }\n",
       "    progress:not([value]), progress:not([value])::-webkit-progress-bar {\n",
       "        background: repeating-linear-gradient(45deg, #7e7e7e, #7e7e7e 10px, #5c5c5c 10px, #5c5c5c 20px);\n",
       "    }\n",
       "    .progress-bar-interrupted, .progress-bar-interrupted::-webkit-progress-bar {\n",
       "        background: #F44336;\n",
       "    }\n",
       "</style>\n"
      ],
      "text/plain": [
       "<IPython.core.display.HTML object>"
      ]
     },
     "metadata": {},
     "output_type": "display_data"
    },
    {
     "data": {
      "text/html": [
       "\n",
       "    <div>\n",
       "      <progress value='8000' class='' max='8000' style='width:300px; height:20px; vertical-align: middle;'></progress>\n",
       "      100.00% [8000/8000 00:00&lt;00:00 Sampling 4 chains, 0 divergences]\n",
       "    </div>\n",
       "    "
      ],
      "text/plain": [
       "<IPython.core.display.HTML object>"
      ]
     },
     "metadata": {},
     "output_type": "display_data"
    },
    {
     "name": "stderr",
     "output_type": "stream",
     "text": [
      "Sampling 4 chains for 1_000 tune and 1_000 draw iterations (4_000 + 4_000 draws total) took 0 seconds.\n"
     ]
    },
    {
     "name": "stdout",
     "output_type": "stream",
     "text": [
      "fast food_mcdonalds_McDonalds_mcdonald's_McDonald's RR: poor/rich 2.1384222152887746 2.6834491036892283\n",
      "fast food_mcdonalds_McDonalds_mcdonald's_McDonald's OR: poor/rich 2.1496845562932627 2.7007786083586898\n"
     ]
    },
    {
     "name": "stderr",
     "output_type": "stream",
     "text": [
      "Auto-assigning NUTS sampler...\n",
      "Initializing NUTS using jitter+adapt_diag...\n",
      "Multiprocess sampling (4 chains in 4 jobs)\n",
      "NUTS: [param]\n"
     ]
    },
    {
     "data": {
      "text/html": [
       "\n",
       "<style>\n",
       "    /* Turns off some styling */\n",
       "    progress {\n",
       "        /* gets rid of default border in Firefox and Opera. */\n",
       "        border: none;\n",
       "        /* Needs to be in here for Safari polyfill so background images work as expected. */\n",
       "        background-size: auto;\n",
       "    }\n",
       "    progress:not([value]), progress:not([value])::-webkit-progress-bar {\n",
       "        background: repeating-linear-gradient(45deg, #7e7e7e, #7e7e7e 10px, #5c5c5c 10px, #5c5c5c 20px);\n",
       "    }\n",
       "    .progress-bar-interrupted, .progress-bar-interrupted::-webkit-progress-bar {\n",
       "        background: #F44336;\n",
       "    }\n",
       "</style>\n"
      ],
      "text/plain": [
       "<IPython.core.display.HTML object>"
      ]
     },
     "metadata": {},
     "output_type": "display_data"
    },
    {
     "data": {
      "text/html": [
       "\n",
       "    <div>\n",
       "      <progress value='8000' class='' max='8000' style='width:300px; height:20px; vertical-align: middle;'></progress>\n",
       "      100.00% [8000/8000 00:00&lt;00:00 Sampling 4 chains, 0 divergences]\n",
       "    </div>\n",
       "    "
      ],
      "text/plain": [
       "<IPython.core.display.HTML object>"
      ]
     },
     "metadata": {},
     "output_type": "display_data"
    },
    {
     "name": "stderr",
     "output_type": "stream",
     "text": [
      "Sampling 4 chains for 1_000 tune and 1_000 draw iterations (4_000 + 4_000 draws total) took 0 seconds.\n",
      "Auto-assigning NUTS sampler...\n",
      "Initializing NUTS using jitter+adapt_diag...\n",
      "Multiprocess sampling (4 chains in 4 jobs)\n",
      "NUTS: [param]\n"
     ]
    },
    {
     "data": {
      "text/html": [
       "\n",
       "<style>\n",
       "    /* Turns off some styling */\n",
       "    progress {\n",
       "        /* gets rid of default border in Firefox and Opera. */\n",
       "        border: none;\n",
       "        /* Needs to be in here for Safari polyfill so background images work as expected. */\n",
       "        background-size: auto;\n",
       "    }\n",
       "    progress:not([value]), progress:not([value])::-webkit-progress-bar {\n",
       "        background: repeating-linear-gradient(45deg, #7e7e7e, #7e7e7e 10px, #5c5c5c 10px, #5c5c5c 20px);\n",
       "    }\n",
       "    .progress-bar-interrupted, .progress-bar-interrupted::-webkit-progress-bar {\n",
       "        background: #F44336;\n",
       "    }\n",
       "</style>\n"
      ],
      "text/plain": [
       "<IPython.core.display.HTML object>"
      ]
     },
     "metadata": {},
     "output_type": "display_data"
    },
    {
     "data": {
      "text/html": [
       "\n",
       "    <div>\n",
       "      <progress value='8000' class='' max='8000' style='width:300px; height:20px; vertical-align: middle;'></progress>\n",
       "      100.00% [8000/8000 00:00&lt;00:00 Sampling 4 chains, 0 divergences]\n",
       "    </div>\n",
       "    "
      ],
      "text/plain": [
       "<IPython.core.display.HTML object>"
      ]
     },
     "metadata": {},
     "output_type": "display_data"
    },
    {
     "name": "stderr",
     "output_type": "stream",
     "text": [
      "Sampling 4 chains for 1_000 tune and 1_000 draw iterations (4_000 + 4_000 draws total) took 0 seconds.\n"
     ]
    },
    {
     "name": "stdout",
     "output_type": "stream",
     "text": [
      "abortion_abortions_birth control RR: poor/rich 1.4446820546415786 1.831332956939055\n",
      "abortion_abortions_birth control OR: poor/rich 1.447526946900462 1.8372591466006452\n"
     ]
    },
    {
     "name": "stderr",
     "output_type": "stream",
     "text": [
      "Auto-assigning NUTS sampler...\n",
      "Initializing NUTS using jitter+adapt_diag...\n",
      "Multiprocess sampling (4 chains in 4 jobs)\n",
      "NUTS: [param]\n"
     ]
    },
    {
     "data": {
      "text/html": [
       "\n",
       "<style>\n",
       "    /* Turns off some styling */\n",
       "    progress {\n",
       "        /* gets rid of default border in Firefox and Opera. */\n",
       "        border: none;\n",
       "        /* Needs to be in here for Safari polyfill so background images work as expected. */\n",
       "        background-size: auto;\n",
       "    }\n",
       "    progress:not([value]), progress:not([value])::-webkit-progress-bar {\n",
       "        background: repeating-linear-gradient(45deg, #7e7e7e, #7e7e7e 10px, #5c5c5c 10px, #5c5c5c 20px);\n",
       "    }\n",
       "    .progress-bar-interrupted, .progress-bar-interrupted::-webkit-progress-bar {\n",
       "        background: #F44336;\n",
       "    }\n",
       "</style>\n"
      ],
      "text/plain": [
       "<IPython.core.display.HTML object>"
      ]
     },
     "metadata": {},
     "output_type": "display_data"
    },
    {
     "data": {
      "text/html": [
       "\n",
       "    <div>\n",
       "      <progress value='8000' class='' max='8000' style='width:300px; height:20px; vertical-align: middle;'></progress>\n",
       "      100.00% [8000/8000 00:00&lt;00:00 Sampling 4 chains, 0 divergences]\n",
       "    </div>\n",
       "    "
      ],
      "text/plain": [
       "<IPython.core.display.HTML object>"
      ]
     },
     "metadata": {},
     "output_type": "display_data"
    },
    {
     "name": "stderr",
     "output_type": "stream",
     "text": [
      "Sampling 4 chains for 1_000 tune and 1_000 draw iterations (4_000 + 4_000 draws total) took 0 seconds.\n",
      "Auto-assigning NUTS sampler...\n",
      "Initializing NUTS using jitter+adapt_diag...\n",
      "Multiprocess sampling (4 chains in 4 jobs)\n",
      "NUTS: [param]\n"
     ]
    },
    {
     "data": {
      "text/html": [
       "\n",
       "<style>\n",
       "    /* Turns off some styling */\n",
       "    progress {\n",
       "        /* gets rid of default border in Firefox and Opera. */\n",
       "        border: none;\n",
       "        /* Needs to be in here for Safari polyfill so background images work as expected. */\n",
       "        background-size: auto;\n",
       "    }\n",
       "    progress:not([value]), progress:not([value])::-webkit-progress-bar {\n",
       "        background: repeating-linear-gradient(45deg, #7e7e7e, #7e7e7e 10px, #5c5c5c 10px, #5c5c5c 20px);\n",
       "    }\n",
       "    .progress-bar-interrupted, .progress-bar-interrupted::-webkit-progress-bar {\n",
       "        background: #F44336;\n",
       "    }\n",
       "</style>\n"
      ],
      "text/plain": [
       "<IPython.core.display.HTML object>"
      ]
     },
     "metadata": {},
     "output_type": "display_data"
    },
    {
     "data": {
      "text/html": [
       "\n",
       "    <div>\n",
       "      <progress value='8000' class='' max='8000' style='width:300px; height:20px; vertical-align: middle;'></progress>\n",
       "      100.00% [8000/8000 00:00&lt;00:00 Sampling 4 chains, 0 divergences]\n",
       "    </div>\n",
       "    "
      ],
      "text/plain": [
       "<IPython.core.display.HTML object>"
      ]
     },
     "metadata": {},
     "output_type": "display_data"
    },
    {
     "name": "stderr",
     "output_type": "stream",
     "text": [
      "Sampling 4 chains for 1_000 tune and 1_000 draw iterations (4_000 + 4_000 draws total) took 0 seconds.\n"
     ]
    },
    {
     "name": "stdout",
     "output_type": "stream",
     "text": [
      "drug testing_drug test RR: poor/rich 7.161680794402291 14.13683016735058\n",
      "drug testing_drug test OR: poor/rich 7.182916675753278 14.185558500138994\n"
     ]
    },
    {
     "name": "stderr",
     "output_type": "stream",
     "text": [
      "Auto-assigning NUTS sampler...\n",
      "Initializing NUTS using jitter+adapt_diag...\n",
      "Multiprocess sampling (4 chains in 4 jobs)\n",
      "NUTS: [param]\n"
     ]
    },
    {
     "data": {
      "text/html": [
       "\n",
       "<style>\n",
       "    /* Turns off some styling */\n",
       "    progress {\n",
       "        /* gets rid of default border in Firefox and Opera. */\n",
       "        border: none;\n",
       "        /* Needs to be in here for Safari polyfill so background images work as expected. */\n",
       "        background-size: auto;\n",
       "    }\n",
       "    progress:not([value]), progress:not([value])::-webkit-progress-bar {\n",
       "        background: repeating-linear-gradient(45deg, #7e7e7e, #7e7e7e 10px, #5c5c5c 10px, #5c5c5c 20px);\n",
       "    }\n",
       "    .progress-bar-interrupted, .progress-bar-interrupted::-webkit-progress-bar {\n",
       "        background: #F44336;\n",
       "    }\n",
       "</style>\n"
      ],
      "text/plain": [
       "<IPython.core.display.HTML object>"
      ]
     },
     "metadata": {},
     "output_type": "display_data"
    },
    {
     "data": {
      "text/html": [
       "\n",
       "    <div>\n",
       "      <progress value='8000' class='' max='8000' style='width:300px; height:20px; vertical-align: middle;'></progress>\n",
       "      100.00% [8000/8000 00:00&lt;00:00 Sampling 4 chains, 0 divergences]\n",
       "    </div>\n",
       "    "
      ],
      "text/plain": [
       "<IPython.core.display.HTML object>"
      ]
     },
     "metadata": {},
     "output_type": "display_data"
    },
    {
     "name": "stderr",
     "output_type": "stream",
     "text": [
      "Sampling 4 chains for 1_000 tune and 1_000 draw iterations (4_000 + 4_000 draws total) took 0 seconds.\n",
      "Auto-assigning NUTS sampler...\n",
      "Initializing NUTS using jitter+adapt_diag...\n",
      "Multiprocess sampling (4 chains in 4 jobs)\n",
      "NUTS: [param]\n"
     ]
    },
    {
     "data": {
      "text/html": [
       "\n",
       "<style>\n",
       "    /* Turns off some styling */\n",
       "    progress {\n",
       "        /* gets rid of default border in Firefox and Opera. */\n",
       "        border: none;\n",
       "        /* Needs to be in here for Safari polyfill so background images work as expected. */\n",
       "        background-size: auto;\n",
       "    }\n",
       "    progress:not([value]), progress:not([value])::-webkit-progress-bar {\n",
       "        background: repeating-linear-gradient(45deg, #7e7e7e, #7e7e7e 10px, #5c5c5c 10px, #5c5c5c 20px);\n",
       "    }\n",
       "    .progress-bar-interrupted, .progress-bar-interrupted::-webkit-progress-bar {\n",
       "        background: #F44336;\n",
       "    }\n",
       "</style>\n"
      ],
      "text/plain": [
       "<IPython.core.display.HTML object>"
      ]
     },
     "metadata": {},
     "output_type": "display_data"
    },
    {
     "data": {
      "text/html": [
       "\n",
       "    <div>\n",
       "      <progress value='8000' class='' max='8000' style='width:300px; height:20px; vertical-align: middle;'></progress>\n",
       "      100.00% [8000/8000 00:00&lt;00:00 Sampling 4 chains, 0 divergences]\n",
       "    </div>\n",
       "    "
      ],
      "text/plain": [
       "<IPython.core.display.HTML object>"
      ]
     },
     "metadata": {},
     "output_type": "display_data"
    },
    {
     "name": "stderr",
     "output_type": "stream",
     "text": [
      "Sampling 4 chains for 1_000 tune and 1_000 draw iterations (4_000 + 4_000 draws total) took 0 seconds.\n"
     ]
    },
    {
     "name": "stdout",
     "output_type": "stream",
     "text": [
      "fat people_obese_obesity_overweight_fatties RR: poor/rich 2.0364446914914214 2.5970647181446163\n",
      "fat people_obese_obesity_overweight_fatties OR: poor/rich 2.0436326439362804 2.6085301053169068\n"
     ]
    },
    {
     "name": "stderr",
     "output_type": "stream",
     "text": [
      "Auto-assigning NUTS sampler...\n",
      "Initializing NUTS using jitter+adapt_diag...\n",
      "Multiprocess sampling (4 chains in 4 jobs)\n",
      "NUTS: [param]\n"
     ]
    },
    {
     "data": {
      "text/html": [
       "\n",
       "<style>\n",
       "    /* Turns off some styling */\n",
       "    progress {\n",
       "        /* gets rid of default border in Firefox and Opera. */\n",
       "        border: none;\n",
       "        /* Needs to be in here for Safari polyfill so background images work as expected. */\n",
       "        background-size: auto;\n",
       "    }\n",
       "    progress:not([value]), progress:not([value])::-webkit-progress-bar {\n",
       "        background: repeating-linear-gradient(45deg, #7e7e7e, #7e7e7e 10px, #5c5c5c 10px, #5c5c5c 20px);\n",
       "    }\n",
       "    .progress-bar-interrupted, .progress-bar-interrupted::-webkit-progress-bar {\n",
       "        background: #F44336;\n",
       "    }\n",
       "</style>\n"
      ],
      "text/plain": [
       "<IPython.core.display.HTML object>"
      ]
     },
     "metadata": {},
     "output_type": "display_data"
    },
    {
     "data": {
      "text/html": [
       "\n",
       "    <div>\n",
       "      <progress value='8000' class='' max='8000' style='width:300px; height:20px; vertical-align: middle;'></progress>\n",
       "      100.00% [8000/8000 00:00&lt;00:00 Sampling 4 chains, 0 divergences]\n",
       "    </div>\n",
       "    "
      ],
      "text/plain": [
       "<IPython.core.display.HTML object>"
      ]
     },
     "metadata": {},
     "output_type": "display_data"
    },
    {
     "name": "stderr",
     "output_type": "stream",
     "text": [
      "Sampling 4 chains for 1_000 tune and 1_000 draw iterations (4_000 + 4_000 draws total) took 0 seconds.\n",
      "Auto-assigning NUTS sampler...\n",
      "Initializing NUTS using jitter+adapt_diag...\n",
      "Multiprocess sampling (4 chains in 4 jobs)\n",
      "NUTS: [param]\n"
     ]
    },
    {
     "data": {
      "text/html": [
       "\n",
       "<style>\n",
       "    /* Turns off some styling */\n",
       "    progress {\n",
       "        /* gets rid of default border in Firefox and Opera. */\n",
       "        border: none;\n",
       "        /* Needs to be in here for Safari polyfill so background images work as expected. */\n",
       "        background-size: auto;\n",
       "    }\n",
       "    progress:not([value]), progress:not([value])::-webkit-progress-bar {\n",
       "        background: repeating-linear-gradient(45deg, #7e7e7e, #7e7e7e 10px, #5c5c5c 10px, #5c5c5c 20px);\n",
       "    }\n",
       "    .progress-bar-interrupted, .progress-bar-interrupted::-webkit-progress-bar {\n",
       "        background: #F44336;\n",
       "    }\n",
       "</style>\n"
      ],
      "text/plain": [
       "<IPython.core.display.HTML object>"
      ]
     },
     "metadata": {},
     "output_type": "display_data"
    },
    {
     "data": {
      "text/html": [
       "\n",
       "    <div>\n",
       "      <progress value='8000' class='' max='8000' style='width:300px; height:20px; vertical-align: middle;'></progress>\n",
       "      100.00% [8000/8000 00:00&lt;00:00 Sampling 4 chains, 0 divergences]\n",
       "    </div>\n",
       "    "
      ],
      "text/plain": [
       "<IPython.core.display.HTML object>"
      ]
     },
     "metadata": {},
     "output_type": "display_data"
    },
    {
     "name": "stderr",
     "output_type": "stream",
     "text": [
      "Sampling 4 chains for 1_000 tune and 1_000 draw iterations (4_000 + 4_000 draws total) took 0 seconds.\n"
     ]
    },
    {
     "name": "stdout",
     "output_type": "stream",
     "text": [
      "relationship_attractive_dating RR: poor/rich 0.6950218987151299 0.7809443227230863\n",
      "relationship_attractive_dating OR: poor/rich 0.6896119566103251 0.776678257139669\n"
     ]
    },
    {
     "name": "stderr",
     "output_type": "stream",
     "text": [
      "Auto-assigning NUTS sampler...\n",
      "Initializing NUTS using jitter+adapt_diag...\n",
      "Multiprocess sampling (4 chains in 4 jobs)\n",
      "NUTS: [param]\n"
     ]
    },
    {
     "data": {
      "text/html": [
       "\n",
       "<style>\n",
       "    /* Turns off some styling */\n",
       "    progress {\n",
       "        /* gets rid of default border in Firefox and Opera. */\n",
       "        border: none;\n",
       "        /* Needs to be in here for Safari polyfill so background images work as expected. */\n",
       "        background-size: auto;\n",
       "    }\n",
       "    progress:not([value]), progress:not([value])::-webkit-progress-bar {\n",
       "        background: repeating-linear-gradient(45deg, #7e7e7e, #7e7e7e 10px, #5c5c5c 10px, #5c5c5c 20px);\n",
       "    }\n",
       "    .progress-bar-interrupted, .progress-bar-interrupted::-webkit-progress-bar {\n",
       "        background: #F44336;\n",
       "    }\n",
       "</style>\n"
      ],
      "text/plain": [
       "<IPython.core.display.HTML object>"
      ]
     },
     "metadata": {},
     "output_type": "display_data"
    },
    {
     "data": {
      "text/html": [
       "\n",
       "    <div>\n",
       "      <progress value='8000' class='' max='8000' style='width:300px; height:20px; vertical-align: middle;'></progress>\n",
       "      100.00% [8000/8000 00:00&lt;00:00 Sampling 4 chains, 0 divergences]\n",
       "    </div>\n",
       "    "
      ],
      "text/plain": [
       "<IPython.core.display.HTML object>"
      ]
     },
     "metadata": {},
     "output_type": "display_data"
    },
    {
     "name": "stderr",
     "output_type": "stream",
     "text": [
      "Sampling 4 chains for 1_000 tune and 1_000 draw iterations (4_000 + 4_000 draws total) took 0 seconds.\n",
      "Auto-assigning NUTS sampler...\n",
      "Initializing NUTS using jitter+adapt_diag...\n",
      "Multiprocess sampling (4 chains in 4 jobs)\n",
      "NUTS: [param]\n"
     ]
    },
    {
     "data": {
      "text/html": [
       "\n",
       "<style>\n",
       "    /* Turns off some styling */\n",
       "    progress {\n",
       "        /* gets rid of default border in Firefox and Opera. */\n",
       "        border: none;\n",
       "        /* Needs to be in here for Safari polyfill so background images work as expected. */\n",
       "        background-size: auto;\n",
       "    }\n",
       "    progress:not([value]), progress:not([value])::-webkit-progress-bar {\n",
       "        background: repeating-linear-gradient(45deg, #7e7e7e, #7e7e7e 10px, #5c5c5c 10px, #5c5c5c 20px);\n",
       "    }\n",
       "    .progress-bar-interrupted, .progress-bar-interrupted::-webkit-progress-bar {\n",
       "        background: #F44336;\n",
       "    }\n",
       "</style>\n"
      ],
      "text/plain": [
       "<IPython.core.display.HTML object>"
      ]
     },
     "metadata": {},
     "output_type": "display_data"
    },
    {
     "data": {
      "text/html": [
       "\n",
       "    <div>\n",
       "      <progress value='8000' class='' max='8000' style='width:300px; height:20px; vertical-align: middle;'></progress>\n",
       "      100.00% [8000/8000 00:00&lt;00:00 Sampling 4 chains, 0 divergences]\n",
       "    </div>\n",
       "    "
      ],
      "text/plain": [
       "<IPython.core.display.HTML object>"
      ]
     },
     "metadata": {},
     "output_type": "display_data"
    },
    {
     "name": "stderr",
     "output_type": "stream",
     "text": [
      "Sampling 4 chains for 1_000 tune and 1_000 draw iterations (4_000 + 4_000 draws total) took 0 seconds.\n"
     ]
    },
    {
     "name": "stdout",
     "output_type": "stream",
     "text": [
      "marijuana_cannabis RR: poor/rich 0.94251495115748 1.3212039915552687\n",
      "marijuana_cannabis OR: poor/rich 0.9423777678594972 1.322169240608849\n"
     ]
    },
    {
     "name": "stderr",
     "output_type": "stream",
     "text": [
      "Auto-assigning NUTS sampler...\n",
      "Initializing NUTS using jitter+adapt_diag...\n",
      "Multiprocess sampling (4 chains in 4 jobs)\n",
      "NUTS: [param]\n"
     ]
    },
    {
     "data": {
      "text/html": [
       "\n",
       "<style>\n",
       "    /* Turns off some styling */\n",
       "    progress {\n",
       "        /* gets rid of default border in Firefox and Opera. */\n",
       "        border: none;\n",
       "        /* Needs to be in here for Safari polyfill so background images work as expected. */\n",
       "        background-size: auto;\n",
       "    }\n",
       "    progress:not([value]), progress:not([value])::-webkit-progress-bar {\n",
       "        background: repeating-linear-gradient(45deg, #7e7e7e, #7e7e7e 10px, #5c5c5c 10px, #5c5c5c 20px);\n",
       "    }\n",
       "    .progress-bar-interrupted, .progress-bar-interrupted::-webkit-progress-bar {\n",
       "        background: #F44336;\n",
       "    }\n",
       "</style>\n"
      ],
      "text/plain": [
       "<IPython.core.display.HTML object>"
      ]
     },
     "metadata": {},
     "output_type": "display_data"
    },
    {
     "data": {
      "text/html": [
       "\n",
       "    <div>\n",
       "      <progress value='8000' class='' max='8000' style='width:300px; height:20px; vertical-align: middle;'></progress>\n",
       "      100.00% [8000/8000 00:00&lt;00:00 Sampling 4 chains, 0 divergences]\n",
       "    </div>\n",
       "    "
      ],
      "text/plain": [
       "<IPython.core.display.HTML object>"
      ]
     },
     "metadata": {},
     "output_type": "display_data"
    },
    {
     "name": "stderr",
     "output_type": "stream",
     "text": [
      "Sampling 4 chains for 1_000 tune and 1_000 draw iterations (4_000 + 4_000 draws total) took 0 seconds.\n",
      "Auto-assigning NUTS sampler...\n",
      "Initializing NUTS using jitter+adapt_diag...\n",
      "Multiprocess sampling (4 chains in 4 jobs)\n",
      "NUTS: [param]\n"
     ]
    },
    {
     "data": {
      "text/html": [
       "\n",
       "<style>\n",
       "    /* Turns off some styling */\n",
       "    progress {\n",
       "        /* gets rid of default border in Firefox and Opera. */\n",
       "        border: none;\n",
       "        /* Needs to be in here for Safari polyfill so background images work as expected. */\n",
       "        background-size: auto;\n",
       "    }\n",
       "    progress:not([value]), progress:not([value])::-webkit-progress-bar {\n",
       "        background: repeating-linear-gradient(45deg, #7e7e7e, #7e7e7e 10px, #5c5c5c 10px, #5c5c5c 20px);\n",
       "    }\n",
       "    .progress-bar-interrupted, .progress-bar-interrupted::-webkit-progress-bar {\n",
       "        background: #F44336;\n",
       "    }\n",
       "</style>\n"
      ],
      "text/plain": [
       "<IPython.core.display.HTML object>"
      ]
     },
     "metadata": {},
     "output_type": "display_data"
    },
    {
     "data": {
      "text/html": [
       "\n",
       "    <div>\n",
       "      <progress value='8000' class='' max='8000' style='width:300px; height:20px; vertical-align: middle;'></progress>\n",
       "      100.00% [8000/8000 00:00&lt;00:00 Sampling 4 chains, 0 divergences]\n",
       "    </div>\n",
       "    "
      ],
      "text/plain": [
       "<IPython.core.display.HTML object>"
      ]
     },
     "metadata": {},
     "output_type": "display_data"
    },
    {
     "name": "stderr",
     "output_type": "stream",
     "text": [
      "Sampling 4 chains for 1_000 tune and 1_000 draw iterations (4_000 + 4_000 draws total) took 0 seconds.\n"
     ]
    },
    {
     "name": "stdout",
     "output_type": "stream",
     "text": [
      "automation_AI RR: poor/rich 0.6269148121771619 0.7771001652100075\n",
      "automation_AI OR: poor/rich 0.6248411219604039 0.7756665312881784\n"
     ]
    },
    {
     "name": "stderr",
     "output_type": "stream",
     "text": [
      "Auto-assigning NUTS sampler...\n",
      "Initializing NUTS using jitter+adapt_diag...\n",
      "Multiprocess sampling (4 chains in 4 jobs)\n",
      "NUTS: [param]\n"
     ]
    },
    {
     "data": {
      "text/html": [
       "\n",
       "<style>\n",
       "    /* Turns off some styling */\n",
       "    progress {\n",
       "        /* gets rid of default border in Firefox and Opera. */\n",
       "        border: none;\n",
       "        /* Needs to be in here for Safari polyfill so background images work as expected. */\n",
       "        background-size: auto;\n",
       "    }\n",
       "    progress:not([value]), progress:not([value])::-webkit-progress-bar {\n",
       "        background: repeating-linear-gradient(45deg, #7e7e7e, #7e7e7e 10px, #5c5c5c 10px, #5c5c5c 20px);\n",
       "    }\n",
       "    .progress-bar-interrupted, .progress-bar-interrupted::-webkit-progress-bar {\n",
       "        background: #F44336;\n",
       "    }\n",
       "</style>\n"
      ],
      "text/plain": [
       "<IPython.core.display.HTML object>"
      ]
     },
     "metadata": {},
     "output_type": "display_data"
    },
    {
     "data": {
      "text/html": [
       "\n",
       "    <div>\n",
       "      <progress value='8000' class='' max='8000' style='width:300px; height:20px; vertical-align: middle;'></progress>\n",
       "      100.00% [8000/8000 00:00&lt;00:00 Sampling 4 chains, 0 divergences]\n",
       "    </div>\n",
       "    "
      ],
      "text/plain": [
       "<IPython.core.display.HTML object>"
      ]
     },
     "metadata": {},
     "output_type": "display_data"
    },
    {
     "name": "stderr",
     "output_type": "stream",
     "text": [
      "Sampling 4 chains for 1_000 tune and 1_000 draw iterations (4_000 + 4_000 draws total) took 0 seconds.\n",
      "Auto-assigning NUTS sampler...\n",
      "Initializing NUTS using jitter+adapt_diag...\n",
      "Multiprocess sampling (4 chains in 4 jobs)\n",
      "NUTS: [param]\n"
     ]
    },
    {
     "data": {
      "text/html": [
       "\n",
       "<style>\n",
       "    /* Turns off some styling */\n",
       "    progress {\n",
       "        /* gets rid of default border in Firefox and Opera. */\n",
       "        border: none;\n",
       "        /* Needs to be in here for Safari polyfill so background images work as expected. */\n",
       "        background-size: auto;\n",
       "    }\n",
       "    progress:not([value]), progress:not([value])::-webkit-progress-bar {\n",
       "        background: repeating-linear-gradient(45deg, #7e7e7e, #7e7e7e 10px, #5c5c5c 10px, #5c5c5c 20px);\n",
       "    }\n",
       "    .progress-bar-interrupted, .progress-bar-interrupted::-webkit-progress-bar {\n",
       "        background: #F44336;\n",
       "    }\n",
       "</style>\n"
      ],
      "text/plain": [
       "<IPython.core.display.HTML object>"
      ]
     },
     "metadata": {},
     "output_type": "display_data"
    },
    {
     "data": {
      "text/html": [
       "\n",
       "    <div>\n",
       "      <progress value='8000' class='' max='8000' style='width:300px; height:20px; vertical-align: middle;'></progress>\n",
       "      100.00% [8000/8000 00:00&lt;00:00 Sampling 4 chains, 0 divergences]\n",
       "    </div>\n",
       "    "
      ],
      "text/plain": [
       "<IPython.core.display.HTML object>"
      ]
     },
     "metadata": {},
     "output_type": "display_data"
    },
    {
     "name": "stderr",
     "output_type": "stream",
     "text": [
      "Sampling 4 chains for 1_000 tune and 1_000 draw iterations (4_000 + 4_000 draws total) took 0 seconds.\n"
     ]
    },
    {
     "name": "stdout",
     "output_type": "stream",
     "text": [
      "mental illness_mentally ill RR: poor/rich 9.41919121411547 12.94297172290211\n",
      "mental illness_mentally ill OR: poor/rich 9.557179695189506 13.148102178539778\n"
     ]
    },
    {
     "name": "stderr",
     "output_type": "stream",
     "text": [
      "Auto-assigning NUTS sampler...\n",
      "Initializing NUTS using jitter+adapt_diag...\n",
      "Multiprocess sampling (4 chains in 4 jobs)\n",
      "NUTS: [param]\n"
     ]
    },
    {
     "data": {
      "text/html": [
       "\n",
       "<style>\n",
       "    /* Turns off some styling */\n",
       "    progress {\n",
       "        /* gets rid of default border in Firefox and Opera. */\n",
       "        border: none;\n",
       "        /* Needs to be in here for Safari polyfill so background images work as expected. */\n",
       "        background-size: auto;\n",
       "    }\n",
       "    progress:not([value]), progress:not([value])::-webkit-progress-bar {\n",
       "        background: repeating-linear-gradient(45deg, #7e7e7e, #7e7e7e 10px, #5c5c5c 10px, #5c5c5c 20px);\n",
       "    }\n",
       "    .progress-bar-interrupted, .progress-bar-interrupted::-webkit-progress-bar {\n",
       "        background: #F44336;\n",
       "    }\n",
       "</style>\n"
      ],
      "text/plain": [
       "<IPython.core.display.HTML object>"
      ]
     },
     "metadata": {},
     "output_type": "display_data"
    },
    {
     "data": {
      "text/html": [
       "\n",
       "    <div>\n",
       "      <progress value='8000' class='' max='8000' style='width:300px; height:20px; vertical-align: middle;'></progress>\n",
       "      100.00% [8000/8000 00:00&lt;00:00 Sampling 4 chains, 0 divergences]\n",
       "    </div>\n",
       "    "
      ],
      "text/plain": [
       "<IPython.core.display.HTML object>"
      ]
     },
     "metadata": {},
     "output_type": "display_data"
    },
    {
     "name": "stderr",
     "output_type": "stream",
     "text": [
      "Sampling 4 chains for 1_000 tune and 1_000 draw iterations (4_000 + 4_000 draws total) took 0 seconds.\n",
      "Auto-assigning NUTS sampler...\n",
      "Initializing NUTS using jitter+adapt_diag...\n",
      "Multiprocess sampling (4 chains in 4 jobs)\n",
      "NUTS: [param]\n"
     ]
    },
    {
     "data": {
      "text/html": [
       "\n",
       "<style>\n",
       "    /* Turns off some styling */\n",
       "    progress {\n",
       "        /* gets rid of default border in Firefox and Opera. */\n",
       "        border: none;\n",
       "        /* Needs to be in here for Safari polyfill so background images work as expected. */\n",
       "        background-size: auto;\n",
       "    }\n",
       "    progress:not([value]), progress:not([value])::-webkit-progress-bar {\n",
       "        background: repeating-linear-gradient(45deg, #7e7e7e, #7e7e7e 10px, #5c5c5c 10px, #5c5c5c 20px);\n",
       "    }\n",
       "    .progress-bar-interrupted, .progress-bar-interrupted::-webkit-progress-bar {\n",
       "        background: #F44336;\n",
       "    }\n",
       "</style>\n"
      ],
      "text/plain": [
       "<IPython.core.display.HTML object>"
      ]
     },
     "metadata": {},
     "output_type": "display_data"
    },
    {
     "data": {
      "text/html": [
       "\n",
       "    <div>\n",
       "      <progress value='8000' class='' max='8000' style='width:300px; height:20px; vertical-align: middle;'></progress>\n",
       "      100.00% [8000/8000 00:00&lt;00:00 Sampling 4 chains, 0 divergences]\n",
       "    </div>\n",
       "    "
      ],
      "text/plain": [
       "<IPython.core.display.HTML object>"
      ]
     },
     "metadata": {},
     "output_type": "display_data"
    },
    {
     "name": "stderr",
     "output_type": "stream",
     "text": [
      "Sampling 4 chains for 1_000 tune and 1_000 draw iterations (4_000 + 4_000 draws total) took 0 seconds.\n"
     ]
    },
    {
     "name": "stdout",
     "output_type": "stream",
     "text": [
      "heroin RR: poor/rich 3.0668667215924317 4.394638370593623\n",
      "heroin OR: poor/rich 3.076563505722916 4.411185174335292\n"
     ]
    },
    {
     "name": "stderr",
     "output_type": "stream",
     "text": [
      "Auto-assigning NUTS sampler...\n",
      "Initializing NUTS using jitter+adapt_diag...\n",
      "Multiprocess sampling (4 chains in 4 jobs)\n",
      "NUTS: [param]\n"
     ]
    },
    {
     "data": {
      "text/html": [
       "\n",
       "<style>\n",
       "    /* Turns off some styling */\n",
       "    progress {\n",
       "        /* gets rid of default border in Firefox and Opera. */\n",
       "        border: none;\n",
       "        /* Needs to be in here for Safari polyfill so background images work as expected. */\n",
       "        background-size: auto;\n",
       "    }\n",
       "    progress:not([value]), progress:not([value])::-webkit-progress-bar {\n",
       "        background: repeating-linear-gradient(45deg, #7e7e7e, #7e7e7e 10px, #5c5c5c 10px, #5c5c5c 20px);\n",
       "    }\n",
       "    .progress-bar-interrupted, .progress-bar-interrupted::-webkit-progress-bar {\n",
       "        background: #F44336;\n",
       "    }\n",
       "</style>\n"
      ],
      "text/plain": [
       "<IPython.core.display.HTML object>"
      ]
     },
     "metadata": {},
     "output_type": "display_data"
    },
    {
     "data": {
      "text/html": [
       "\n",
       "    <div>\n",
       "      <progress value='8000' class='' max='8000' style='width:300px; height:20px; vertical-align: middle;'></progress>\n",
       "      100.00% [8000/8000 00:00&lt;00:00 Sampling 4 chains, 0 divergences]\n",
       "    </div>\n",
       "    "
      ],
      "text/plain": [
       "<IPython.core.display.HTML object>"
      ]
     },
     "metadata": {},
     "output_type": "display_data"
    },
    {
     "name": "stderr",
     "output_type": "stream",
     "text": [
      "Sampling 4 chains for 1_000 tune and 1_000 draw iterations (4_000 + 4_000 draws total) took 0 seconds.\n",
      "Auto-assigning NUTS sampler...\n",
      "Initializing NUTS using jitter+adapt_diag...\n",
      "Multiprocess sampling (4 chains in 4 jobs)\n",
      "NUTS: [param]\n"
     ]
    },
    {
     "data": {
      "text/html": [
       "\n",
       "<style>\n",
       "    /* Turns off some styling */\n",
       "    progress {\n",
       "        /* gets rid of default border in Firefox and Opera. */\n",
       "        border: none;\n",
       "        /* Needs to be in here for Safari polyfill so background images work as expected. */\n",
       "        background-size: auto;\n",
       "    }\n",
       "    progress:not([value]), progress:not([value])::-webkit-progress-bar {\n",
       "        background: repeating-linear-gradient(45deg, #7e7e7e, #7e7e7e 10px, #5c5c5c 10px, #5c5c5c 20px);\n",
       "    }\n",
       "    .progress-bar-interrupted, .progress-bar-interrupted::-webkit-progress-bar {\n",
       "        background: #F44336;\n",
       "    }\n",
       "</style>\n"
      ],
      "text/plain": [
       "<IPython.core.display.HTML object>"
      ]
     },
     "metadata": {},
     "output_type": "display_data"
    },
    {
     "data": {
      "text/html": [
       "\n",
       "    <div>\n",
       "      <progress value='8000' class='' max='8000' style='width:300px; height:20px; vertical-align: middle;'></progress>\n",
       "      100.00% [8000/8000 00:00&lt;00:00 Sampling 4 chains, 0 divergences]\n",
       "    </div>\n",
       "    "
      ],
      "text/plain": [
       "<IPython.core.display.HTML object>"
      ]
     },
     "metadata": {},
     "output_type": "display_data"
    },
    {
     "name": "stderr",
     "output_type": "stream",
     "text": [
      "Sampling 4 chains for 1_000 tune and 1_000 draw iterations (4_000 + 4_000 draws total) took 0 seconds.\n"
     ]
    },
    {
     "name": "stdout",
     "output_type": "stream",
     "text": [
      "addiction_addict _addicts RR: poor/rich 6.2161093159562215 7.988401399668933\n",
      "addiction_addict _addicts OR: poor/rich 6.312326904522776 8.121643370838795\n"
     ]
    },
    {
     "name": "stderr",
     "output_type": "stream",
     "text": [
      "Auto-assigning NUTS sampler...\n",
      "Initializing NUTS using jitter+adapt_diag...\n",
      "Multiprocess sampling (4 chains in 4 jobs)\n",
      "NUTS: [param]\n"
     ]
    },
    {
     "data": {
      "text/html": [
       "\n",
       "<style>\n",
       "    /* Turns off some styling */\n",
       "    progress {\n",
       "        /* gets rid of default border in Firefox and Opera. */\n",
       "        border: none;\n",
       "        /* Needs to be in here for Safari polyfill so background images work as expected. */\n",
       "        background-size: auto;\n",
       "    }\n",
       "    progress:not([value]), progress:not([value])::-webkit-progress-bar {\n",
       "        background: repeating-linear-gradient(45deg, #7e7e7e, #7e7e7e 10px, #5c5c5c 10px, #5c5c5c 20px);\n",
       "    }\n",
       "    .progress-bar-interrupted, .progress-bar-interrupted::-webkit-progress-bar {\n",
       "        background: #F44336;\n",
       "    }\n",
       "</style>\n"
      ],
      "text/plain": [
       "<IPython.core.display.HTML object>"
      ]
     },
     "metadata": {},
     "output_type": "display_data"
    },
    {
     "data": {
      "text/html": [
       "\n",
       "    <div>\n",
       "      <progress value='8000' class='' max='8000' style='width:300px; height:20px; vertical-align: middle;'></progress>\n",
       "      100.00% [8000/8000 00:00&lt;00:00 Sampling 4 chains, 0 divergences]\n",
       "    </div>\n",
       "    "
      ],
      "text/plain": [
       "<IPython.core.display.HTML object>"
      ]
     },
     "metadata": {},
     "output_type": "display_data"
    },
    {
     "name": "stderr",
     "output_type": "stream",
     "text": [
      "Sampling 4 chains for 1_000 tune and 1_000 draw iterations (4_000 + 4_000 draws total) took 0 seconds.\n",
      "Auto-assigning NUTS sampler...\n",
      "Initializing NUTS using jitter+adapt_diag...\n",
      "Multiprocess sampling (4 chains in 4 jobs)\n",
      "NUTS: [param]\n"
     ]
    },
    {
     "data": {
      "text/html": [
       "\n",
       "<style>\n",
       "    /* Turns off some styling */\n",
       "    progress {\n",
       "        /* gets rid of default border in Firefox and Opera. */\n",
       "        border: none;\n",
       "        /* Needs to be in here for Safari polyfill so background images work as expected. */\n",
       "        background-size: auto;\n",
       "    }\n",
       "    progress:not([value]), progress:not([value])::-webkit-progress-bar {\n",
       "        background: repeating-linear-gradient(45deg, #7e7e7e, #7e7e7e 10px, #5c5c5c 10px, #5c5c5c 20px);\n",
       "    }\n",
       "    .progress-bar-interrupted, .progress-bar-interrupted::-webkit-progress-bar {\n",
       "        background: #F44336;\n",
       "    }\n",
       "</style>\n"
      ],
      "text/plain": [
       "<IPython.core.display.HTML object>"
      ]
     },
     "metadata": {},
     "output_type": "display_data"
    },
    {
     "data": {
      "text/html": [
       "\n",
       "    <div>\n",
       "      <progress value='8000' class='' max='8000' style='width:300px; height:20px; vertical-align: middle;'></progress>\n",
       "      100.00% [8000/8000 00:00&lt;00:00 Sampling 4 chains, 0 divergences]\n",
       "    </div>\n",
       "    "
      ],
      "text/plain": [
       "<IPython.core.display.HTML object>"
      ]
     },
     "metadata": {},
     "output_type": "display_data"
    },
    {
     "name": "stderr",
     "output_type": "stream",
     "text": [
      "Sampling 4 chains for 1_000 tune and 1_000 draw iterations (4_000 + 4_000 draws total) took 0 seconds.\n"
     ]
    },
    {
     "name": "stdout",
     "output_type": "stream",
     "text": [
      " a _ an _ the  RR: poor/rich 0.9602094363136331 0.9655491759822884\n",
      " a _ an _ the  OR: poor/rich 0.6547098558976281 0.6928933793806468\n"
     ]
    }
   ],
   "source": [
    "def estimator(n, s):\n",
    "    \n",
    "    with pm.Model() as model:\n",
    "                    \n",
    "        # prior\n",
    "        param = pm.LogitNormal(f'param', 0, 1.5)\n",
    "        \n",
    "        # likelihood\n",
    "        pm.Binomial(f\"likelihood\", n = n , p=param, observed=s)\n",
    "        \n",
    "        trace=pm.sample()\n",
    "        \n",
    "    return model, trace\n",
    "\n",
    "\n",
    "# test\n",
    "for words in RQ1_selected + [(' a ', ' an ', ' the ')]:\n",
    "\n",
    "    name = \"_\".join(words)\n",
    "\n",
    "    # poor\n",
    "    n = len(df_topic.loc[(df_topic.loc[:, 'index'].isin(poor_indices_pure)), :])\n",
    "    s = len(df_topic.loc[(df_topic.loc[:, 'index'].isin(poor_indices_pure)) & (df_topic.loc[:, name]==True), :])\n",
    "    model_poor, trace_poor = estimator(n, s);\n",
    "    p_poor = trace_poor.posterior[f'param'].stack(sample=('chain', 'draw')).to_numpy()  # 1D array, dim=chains * draws\n",
    "\n",
    "    # rich\n",
    "    n = len(df_topic.loc[(df_topic.loc[:, 'index'].isin(rich_indices_pure)), :])\n",
    "    s = len(df_topic.loc[(df_topic.loc[:, 'index'].isin(rich_indices_pure)) & (df_topic.loc[:, name]==True), :])\n",
    "    model_rich, trace_rich = estimator(n, s);\n",
    "    p_rich = trace_rich.posterior[f'param'].stack(sample=('chain', 'draw')).to_numpy()  # 1D array, dim=chains * draws\n",
    "    \n",
    "    # # neutral\n",
    "    # n = len(df_topic.loc[(df_topic.loc[:, 'index'].isin(neutral_indices)), :])\n",
    "    # s = len(df_topic.loc[(df_topic.loc[:, 'index'].isin(neutral_indices)) & (df_topic.loc[:, name]==True), :])\n",
    "    # model_neutral, trace_neutral = estimator(n, s);\n",
    "    # p_neutral = trace_neutral.posterior[f'param'].stack(sample=('chain', 'draw')).to_numpy()  # 1D array, dim=chains * draws\n",
    "    \n",
    "    ## posterior contrasts\n",
    "\n",
    "    RR_pc_poor_rich = p_poor / p_rich\n",
    "    print(name, 'RR: poor/rich', np.percentile(RR_pc_poor_rich, 0.05), np.percentile(RR_pc_poor_rich,99.5))\n",
    "\n",
    "    OR_pc_poor_rich = (p_poor / (1-p_poor)) / (p_rich / (1-p_rich))\n",
    "    print(name, 'OR: poor/rich', np.percentile(OR_pc_poor_rich, 0.05), np.percentile(OR_pc_poor_rich,99.5))\n",
    "          \n",
    "    # pc_poor_neutral = p_poor / p_neutral\n",
    "    # print(name, 'poor/neutral', np.percentile(pc_poor_neutral, 0.05), np.percentile(pc_poor_neutral,99.5))\n",
    "    \n",
    "    # pc_rich_neutral = p_rich / p_neutral\n",
    "    # print(name, 'rich/neutral', np.percentile(pc_rich_neutral, 0.05), np.percentile(pc_rich_neutral,99.5))\n"
   ]
  },
  {
   "cell_type": "markdown",
   "id": "8cfa54cb-8248-4f80-9626-b8be84af9e22",
   "metadata": {},
   "source": [
    "# Random sample of topics (irrespective of wealth context)"
   ]
  },
  {
   "cell_type": "code",
   "execution_count": 148,
   "id": "f4ce2daf-01e5-47b2-808f-3e4428d0e10a",
   "metadata": {},
   "outputs": [],
   "source": [
    "import random\n",
    "random.seed(85)\n",
    "for words in RQ1_selected:\n",
    "    name = \"_\".join(words)\n",
    "    comments = list(df_topic.loc[df_topic.loc[:, name]==True, 'Document'].values)\n",
    "    sample = random.sample(comments, k=50)\n",
    "\n",
    "    with open(f'samples/{name}.txt', 'w') as f:\n",
    "        f.write(\"\\n------\\n\".join(sample))\n",
    "        "
   ]
  },
  {
   "cell_type": "markdown",
   "id": "4b8d7288-ae38-4d04-a99f-25377e7d751e",
   "metadata": {},
   "source": [
    "# Random sample of topics + low wealth instances"
   ]
  },
  {
   "cell_type": "code",
   "execution_count": 136,
   "id": "06745342-b00e-4fdb-8281-c2e478dc9bbb",
   "metadata": {},
   "outputs": [],
   "source": [
    "import random\n",
    "random.seed(85)\n",
    "for words in RQ1_selected:\n",
    "    name = \"_\".join(words)\n",
    "    comments = list(df_topic.loc[(df_topic.loc[:, 'index'].isin(poor_indices_pure)) & (df_topic.loc[:, name]==True), 'Document'].values)\n",
    "    sample = random.sample(comments, k=100)\n",
    "\n",
    "    with open(f'samples/{name}.txt', 'w') as f:\n",
    "        f.write(\"\\n------\\n\".join(sample))\n",
    "        "
   ]
  },
  {
   "cell_type": "markdown",
   "id": "5ec43d2d",
   "metadata": {},
   "source": [
    "### Plot"
   ]
  },
  {
   "cell_type": "code",
   "execution_count": 80,
   "id": "c68aed3d",
   "metadata": {
    "scrolled": true
   },
   "outputs": [
    {
     "data": {
      "image/png": "[encoded data removed]",
      "text/plain": [
       "<Figure size 640x480 with 1 Axes>"
      ]
     },
     "metadata": {},
     "output_type": "display_data"
    }
   ],
   "source": [
    "# fig, axs = plt.subplots(len(topics_), figsize=[10,10])\n",
    "\n",
    "fig, ax = plt.subplots()\n",
    "\n",
    "# get 99% CI as lower bound and upper bound\n",
    "bars = []\n",
    "for i, (tl, tn) in enumerate(topics_):\n",
    "    \n",
    "    # get contrasts\n",
    "    p_poor = trace.posterior[f'p_poor_{tl}'].stack(sample=('chain', 'draw')).to_numpy()  # 1D array, dim=chains * draws\n",
    "    p_rich = trace.posterior[f'p_rich_{tl}'].stack(sample=('chain', 'draw')).to_numpy()  # 1D array, dim=chains * draws\n",
    "\n",
    "    pc = p_poor/p_rich\n",
    "    bars.append([np.percentile(pc, 0.05), np.percentile(pc,99.5), i, tl])\n",
    "\n",
    "# Plot each bar\n",
    "for bar in bars:\n",
    "    # Extract coordinates for each bar and its height\n",
    "    x1, x2, y, label= bar\n",
    "    width = x2 - x1\n",
    "    ax.barh(y, width, left=x1, color='black', height=0.1, label=label )\n",
    "\n",
    "    if tl in ['mental health']:\n",
    "        ax.text(x2*1.1, y, label, ha='right', va='center', color='black')\n",
    "    else:\n",
    "        ax.text(x2*1.1, y, label, ha='left', va='center', color='black')"
   ]
  },
  {
   "cell_type": "code",
   "execution_count": 76,
   "id": "4d150cec-ed7d-42c3-9a7c-5b3e6c7a5fe8",
   "metadata": {},
   "outputs": [
    {
     "name": "stdout",
     "output_type": "stream",
     "text": [
      "<class 'pandas.core.frame.DataFrame'>\n",
      "Int64Index: 1830354 entries, 0 to 1904436\n",
      "Data columns (total 21 columns):\n",
      " #   Column                                               Dtype  \n",
      "---  ------                                               -----  \n",
      " 0   Document                                             object \n",
      " 1   Topic                                                int64  \n",
      " 2   Name                                                 object \n",
      " 3   Representation                                       object \n",
      " 4   Representative_Docs                                  float64\n",
      " 5   Top_n_words                                          object \n",
      " 6   Representative_document                              bool   \n",
      " 7   index                                                object \n",
      " 8   police_cops _police officer_cop                      bool   \n",
      " 9   prison_jail_prisons                                  bool   \n",
      " 10  fast food_mcdonalds_McDonalds_mcdonald's_McDonald's  bool   \n",
      " 11  abortion_abortions_birth control                     bool   \n",
      " 12  drug testing_drug test                               bool   \n",
      " 13  fat people_obese_obesity_overweight_fatties          bool   \n",
      " 14  relationship_attractive_dating                       bool   \n",
      " 15  marijuana_cannabis                                   bool   \n",
      " 16  automation_AI                                        bool   \n",
      " 17  mental illness_mentally ill                          bool   \n",
      " 18  heroin                                               bool   \n",
      " 19  addiction_addict _addicts                            bool   \n",
      " 20   a _ an _ the                                        bool   \n",
      "dtypes: bool(14), float64(1), int64(1), object(5)\n",
      "memory usage: 200.7+ MB\n"
     ]
    }
   ],
   "source": [
    "df_topic.info()"
   ]
  },
  {
   "cell_type": "markdown",
   "id": "e934f112-f0d0-4407-b668-666844835c16",
   "metadata": {},
   "source": [
    "## Poor + black + topic samples for RQ2 analysis"
   ]
  },
  {
   "cell_type": "code",
   "execution_count": 79,
   "id": "b794ee69-4a0e-480e-a97b-02b68aff2572",
   "metadata": {},
   "outputs": [
    {
     "name": "stdout",
     "output_type": "stream",
     "text": [
      "629\n"
     ]
    }
   ],
   "source": [
    "# police\n",
    "import random\n",
    "random.seed(85)\n",
    "pool = list(df_topic.loc[\n",
    "    df_topic.loc[:, 'index'].isin(poor_indices_pure) & \n",
    "    df_topic.loc[:, 'index'].isin(black_indices) & \n",
    "    (df_topic.loc[:, 'police_cops _police officer_cop ']==True), \n",
    "    'Document'\n",
    "].values)\n",
    "print(len(pool))\n",
    "\n",
    "sample = random.sample(pool, k=50)\n",
    "\n",
    "# with open(f'samples/poor+topic+black/police.txt', 'w') as f:\n",
    "#     f.write(\"\\n------\\n\".join(sample))"
   ]
  },
  {
   "cell_type": "code",
   "execution_count": 81,
   "id": "ac7e4dff-f538-4562-947e-5d8beea5865f",
   "metadata": {},
   "outputs": [
    {
     "data": {
      "text/plain": [
       "3836"
      ]
     },
     "execution_count": 81,
     "metadata": {},
     "output_type": "execute_result"
    }
   ],
   "source": [
    "len(df_topic.loc[df_topic.loc[:, 'index'].isin(poor_indices_pure)&df_topic.loc[:, 'index'].isin(black_indices),:])"
   ]
  },
  {
   "cell_type": "code",
   "execution_count": 78,
   "id": "3b659dbf-053a-4f0b-92b2-a8099ca3f9b6",
   "metadata": {},
   "outputs": [
    {
     "name": "stdout",
     "output_type": "stream",
     "text": [
      "348\n"
     ]
    }
   ],
   "source": [
    "# prison\n",
    "import random\n",
    "random.seed(85)\n",
    "pool = list(df_topic.loc[\n",
    "    df_topic.loc[:, 'index'].isin(poor_indices_pure) & \n",
    "    df_topic.loc[:, 'index'].isin(black_indices) & \n",
    "    (df_topic.loc[:, 'prison_jail_prisons']==True), \n",
    "    'Document'\n",
    "].values)\n",
    "print(len(pool))\n",
    "\n",
    "sample = random.sample(pool, k=50)\n",
    "\n",
    "# with open(f'samples/poor+topic+black/prison.txt', 'w') as f:\n",
    "#     f.write(\"\\n------\\n\".join(sample))"
   ]
  },
  {
   "cell_type": "code",
   "execution_count": 86,
   "id": "183f997d-2e83-4a9b-b339-d59134f461a0",
   "metadata": {},
   "outputs": [
    {
     "data": {
      "text/plain": [
       "73568"
      ]
     },
     "execution_count": 86,
     "metadata": {},
     "output_type": "execute_result"
    }
   ],
   "source": [
    "len(set(n_indices))"
   ]
  },
  {
   "cell_type": "code",
   "execution_count": null,
   "id": "d9ccc150-58a4-4f93-9734-4ccba8dcebb9",
   "metadata": {},
   "outputs": [],
   "source": []
  }
 ],
 "metadata": {
  "kernelspec": {
   "display_name": "Python 3 (ipykernel)",
   "language": "python",
   "name": "python3"
  },
  "language_info": {
   "codemirror_mode": {
    "name": "ipython",
    "version": 3
   },
   "file_extension": ".py",
   "mimetype": "text/x-python",
   "name": "python",
   "nbconvert_exporter": "python",
   "pygments_lexer": "ipython3",
   "version": "3.10.4"
  }
 },
 "nbformat": 4,
 "nbformat_minor": 5
}
