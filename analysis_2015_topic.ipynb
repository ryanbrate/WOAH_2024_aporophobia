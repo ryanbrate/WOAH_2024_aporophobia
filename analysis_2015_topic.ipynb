{
 "cells": [
  {
   "cell_type": "code",
   "execution_count": 1,
   "id": "1b61e03c",
   "metadata": {},
   "outputs": [
    {
     "name": "stderr",
     "output_type": "stream",
     "text": [
      "WARNING (pytensor.tensor.blas): Using NumPy C-API based implementation for BLAS functions.\n"
     ]
    }
   ],
   "source": [
    "import sqlite3\n",
    "import pandas as pd\n",
    "import pathlib\n",
    "import json\n",
    "import re\n",
    "from tqdm import tqdm\n",
    "from bertopic import BERTopic\n",
    "import pickle\n",
    "import bz2\n",
    "from tqdm.contrib.concurrent import process_map\n",
    "from collections import defaultdict\n",
    "import pymc as pm\n",
    "import numpy as np\n",
    "import matplotlib.pyplot as plt\n",
    "import stats\n",
    "import arviz as az\n",
    "from itertools import cycle\n",
    "from scipy.stats import bernoulli\n",
    "import random\n",
    "from operator import concat\n",
    "from functools import reduce"
   ]
  },
  {
   "cell_type": "markdown",
   "id": "9ad403aa",
   "metadata": {},
   "source": [
    "see get_seeded_mp.py for the script to pull comments from the reddit data wrt., seed terms\n",
    "\n",
    "see cut_comments which takes the comments.json and indices.json output from get_seeded_mp.py and extracts, for this analysis, the 2015 'poor comments'\n",
    "\n",
    "see topic_model.py which performs topic modelling on the above 2015 poor comments subset. see the script for details"
   ]
  },
  {
   "cell_type": "code",
   "execution_count": 2,
   "id": "c7c0a03b",
   "metadata": {},
   "outputs": [
    {
     "data": {
      "text/plain": [
       "'3.11.6 (main, Nov  2 2023, 04:39:43) [Clang 14.0.3 (clang-1403.0.22.14.1)]'"
      ]
     },
     "execution_count": 2,
     "metadata": {},
     "output_type": "execute_result"
    }
   ],
   "source": [
    "import sys\n",
    "sys.version"
   ]
  },
  {
   "cell_type": "markdown",
   "id": "91f8a137",
   "metadata": {},
   "source": [
    "## Load comments, indices, config"
   ]
  },
  {
   "cell_type": "code",
   "execution_count": 11,
   "id": "e1f5460f-9fac-40a9-afef-a32137ffdf10",
   "metadata": {},
   "outputs": [],
   "source": [
    "with open('config.json', 'r', encoding='utf-8') as f:\n",
    "    config = json.load(f)"
   ]
  },
  {
   "cell_type": "code",
   "execution_count": 3,
   "id": "ae444913",
   "metadata": {},
   "outputs": [],
   "source": [
    "with open('comments.json', 'r', encoding='utf-8') as f:\n",
    "    comments = json.load(f)"
   ]
  },
  {
   "cell_type": "code",
   "execution_count": 4,
   "id": "a71cc70f",
   "metadata": {},
   "outputs": [
    {
     "name": "stderr",
     "output_type": "stream",
     "text": [
      "100%|██████████████████████████████████████████| 41/41 [00:00<00:00, 176.90it/s]\n"
     ]
    }
   ],
   "source": [
    "with open('indices.json', 'r', encoding='utf-8') as f:\n",
    "    indices = json.load(f)\n",
    "indices = {k:[tuple(p) for p in indices[k]] for k in tqdm(indices.keys())}"
   ]
  },
  {
   "cell_type": "markdown",
   "id": "87da4d43",
   "metadata": {},
   "source": [
    "## Load the topic_model"
   ]
  },
  {
   "cell_type": "code",
   "execution_count": 5,
   "id": "365cc443",
   "metadata": {},
   "outputs": [
    {
     "name": "stderr",
     "output_type": "stream",
     "text": [
      "2024-03-13 10:25:19,751 - BERTopic - WARNING: You are loading a BERTopic model without explicitly defining an embedding model.If you want to also load in an embedding model, make sure to useBERTopic.load(my_model, embedding_model=my_embedding_model).\n"
     ]
    }
   ],
   "source": [
    "from sentence_transformers import SentenceTransformer\n",
    "embedding_model = SentenceTransformer(\"all-MiniLM-L6-v2\")\n",
    "topic_model = BERTopic.load(\"topic_model.safetensors\", embedding_model=embedding_model)"
   ]
  },
  {
   "cell_type": "markdown",
   "id": "9b69cfdc-f50b-4083-93b5-80b67122b64e",
   "metadata": {},
   "source": [
    "## get a dataframe of topics wrt., all comments"
   ]
  },
  {
   "cell_type": "code",
   "execution_count": 6,
   "id": "937fed41-4379-402b-a807-ce900f49d646",
   "metadata": {},
   "outputs": [],
   "source": [
    "ordered_comments = reduce(concat, [comments[seed] for seed in comments.keys()])\n",
    "df_topic = topic_model.get_document_info(ordered_comments)"
   ]
  },
  {
   "cell_type": "code",
   "execution_count": 7,
   "id": "92159c68-c9ab-4ca9-a713-0935b0b91658",
   "metadata": {},
   "outputs": [
    {
     "data": {
      "text/plain": [
       "(1904437, 7)"
      ]
     },
     "execution_count": 7,
     "metadata": {},
     "output_type": "execute_result"
    }
   ],
   "source": [
    "df_topic.shape"
   ]
  },
  {
   "cell_type": "markdown",
   "id": "d51c67ef-09b9-4d60-86d9-4fb99695f625",
   "metadata": {},
   "source": [
    "## collapse rows which are the same comment (have the same comment index)"
   ]
  },
  {
   "cell_type": "code",
   "execution_count": 8,
   "id": "70dac124-1d98-4a41-b0ad-1e2268a95a17",
   "metadata": {},
   "outputs": [],
   "source": [
    "df_topic['index'] = [index for seed in indices.keys() for index in indices[seed]]\n",
    "df_topic = df_topic.drop_duplicates(subset=['index'], keep='first')"
   ]
  },
  {
   "cell_type": "code",
   "execution_count": 9,
   "id": "ddbdc382-d755-4f5f-8132-8035016d5c40",
   "metadata": {},
   "outputs": [
    {
     "data": {
      "text/plain": [
       "(1830354, 8)"
      ]
     },
     "execution_count": 9,
     "metadata": {},
     "output_type": "execute_result"
    }
   ],
   "source": [
    "df_topic.shape"
   ]
  },
  {
   "cell_type": "markdown",
   "id": "16716c1e-502f-4748-9d10-4cadd5cc0113",
   "metadata": {},
   "source": [
    "## rows by context type"
   ]
  },
  {
   "cell_type": "code",
   "execution_count": 12,
   "id": "e86b5a05-a4b8-4df5-ae6d-b881829faa00",
   "metadata": {},
   "outputs": [],
   "source": [
    "poor_indices = set([index for seed in config['wealth_seeds']['poor_seeds'] for index in indices[seed]])\n",
    "rich_indices = set([index for seed in config['wealth_seeds']['rich_seeds'] for index in indices[seed]])\n",
    "neutral_indices = set(indices['neutral_sample'])\n",
    "black_indices = set([index for seed in config['other_seeds']['black_seeds'] for index in indices[seed]])\n",
    "n_indices = set([index for seed in config['other_seeds']['n_seeds'] for index in indices[seed]])"
   ]
  },
  {
   "cell_type": "code",
   "execution_count": 13,
   "id": "283c62bf-807f-4fec-8be9-27821b09f287",
   "metadata": {},
   "outputs": [
    {
     "data": {
      "text/plain": [
       "14397"
      ]
     },
     "metadata": {},
     "output_type": "display_data"
    },
    {
     "data": {
      "text/plain": [
       "4395"
      ]
     },
     "metadata": {},
     "output_type": "display_data"
    },
    {
     "data": {
      "text/plain": [
       "995"
      ]
     },
     "metadata": {},
     "output_type": "display_data"
    },
    {
     "data": {
      "text/plain": [
       "413"
      ]
     },
     "metadata": {},
     "output_type": "display_data"
    },
    {
     "data": {
      "text/plain": [
       "290"
      ]
     },
     "metadata": {},
     "output_type": "display_data"
    }
   ],
   "source": [
    "display(len(poor_indices.intersection(rich_indices)))\n",
    "display(len(poor_indices.intersection(black_indices)))\n",
    "display(len(neutral_indices.intersection(black_indices)))\n",
    "display(len(poor_indices.intersection(n_indices)))\n",
    "display(len(neutral_indices.intersection(n_indices)))"
   ]
  },
  {
   "cell_type": "markdown",
   "id": "c57b6a60-71e1-42ce-8f12-240810a52761",
   "metadata": {},
   "source": [
    "# RQ1"
   ]
  },
  {
   "cell_type": "code",
   "execution_count": 14,
   "id": "b5edb0f9-5116-407f-8a9e-8c120a763809",
   "metadata": {},
   "outputs": [],
   "source": [
    "RQ1_selected = [\n",
    "    '16_prison_jail_court_lawyer',\n",
    "    '37_fat_fat people_weight_obese',\n",
    "]"
   ]
  },
  {
   "cell_type": "markdown",
   "id": "da96c75a-f85e-4efb-85da-60bc5afc1851",
   "metadata": {},
   "source": [
    "# Examine relative proportions of selected topics (deemed negative in their association)"
   ]
  },
  {
   "cell_type": "code",
   "execution_count": 15,
   "id": "e9ba107f-5b76-42d7-9a82-ef442a9d0d2f",
   "metadata": {},
   "outputs": [],
   "source": [
    "# pure poor_context indices (as not coincident with rich) and vice-versa\n",
    "poor_indices_pure = poor_indices - rich_indices\n",
    "rich_indices_pure = rich_indices - poor_indices"
   ]
  },
  {
   "cell_type": "code",
   "execution_count": 16,
   "id": "d97a5980-04ee-4177-b6f5-4a012ce53033",
   "metadata": {},
   "outputs": [
    {
     "name": "stdout",
     "output_type": "stream",
     "text": [
      "risk ratio point estimate: P(poor,16_prison_jail_court_lawyer) / P(rich,16_prison_jail_court_lawyer) = 0.6357952253428707\n",
      "risk ratio point estimate: P(poor,16_prison_jail_court_lawyer) / P(neutral,16_prison_jail_court_lawyer) = 1.7636509489565706\n",
      "\n",
      "\n",
      "risk ratio point estimate: P(poor,37_fat_fat people_weight_obese) / P(rich,37_fat_fat people_weight_obese) = 1.5672993851728032\n",
      "risk ratio point estimate: P(poor,37_fat_fat people_weight_obese) / P(neutral,37_fat_fat people_weight_obese) = 2.219051669860016\n",
      "\n",
      "\n"
     ]
    }
   ],
   "source": [
    "for name in RQ1_selected:  # topics\n",
    "    c_rich = len(df_topic.loc[(df_topic.loc[:, 'index'].isin(rich_indices_pure)) & (df_topic.loc[:, 'Name']==name), :])\n",
    "    c_poor = len(df_topic.loc[(df_topic.loc[:, 'index'].isin(poor_indices_pure)) & (df_topic.loc[:, 'Name']==name), :])\n",
    "    c_neutral = len(df_topic.loc[(df_topic.loc[:, 'index'].isin(neutral_indices)) & (df_topic.loc[:, 'Name']==name), :])\n",
    "    # print('rich', name, c_rich)\n",
    "    # print('poor', name, c_poor)\n",
    "    print(f'risk ratio point estimate: P(poor,{name}) / P(rich,{name}) = {c_poor*len(rich_indices_pure)/(c_rich*len(poor_indices_pure))}')\n",
    "    print(f'risk ratio point estimate: P(poor,{name}) / P(neutral,{name}) = {c_poor*len(neutral_indices)/(c_neutral*len(poor_indices_pure))}')\n",
    "\n",
    "    print('\\n')\n"
   ]
  },
  {
   "cell_type": "markdown",
   "id": "87522bae",
   "metadata": {},
   "source": [
    "# Bayesian estimation wrt., binomial outcomes"
   ]
  },
  {
   "cell_type": "markdown",
   "id": "7c290913",
   "metadata": {},
   "source": [
    "## helper functions"
   ]
  },
  {
   "cell_type": "code",
   "execution_count": 17,
   "id": "dcef340b",
   "metadata": {},
   "outputs": [],
   "source": [
    "def plot_posterior_estimates(trace):\n",
    "    \"\"\" Plot posterior parameter distributions, i.e., P(parameter=value | data)\n",
    "    \"\"\"\n",
    "    var_names = [name for name in trace.posterior]\n",
    "    for i, var_name in enumerate(var_names):\n",
    "        az.plot_trace(data=trace, var_names=[var_name])\n",
    "    \n",
    "def plot_posterior_predictive_checks(model, trace, size=1000):\n",
    "    \"\"\" Plot (hist) predictions of estimand (based on parameter posteriors) against the observed \n",
    "    \"\"\"\n",
    "    \n",
    "    # get estimand predictions based on param posteriors\n",
    "    with model: \n",
    "        post_pred: arviz.data.inference_data.InferenceData = pm.sample_posterior_predictive(trace, extend_inferencedata=False)\n",
    "        # don't add to trace\n",
    "            \n",
    "    # for each estimate record (predictions, observed) for each estimand\n",
    "    d = {}\n",
    "    n = len(post_pred.posterior_predictive)\n",
    "    for i, name in enumerate(post_pred.posterior_predictive):\n",
    "        \n",
    "        # get a random sample (with replacement) of predictions from stack predictions accross draws and chains\n",
    "        p_dims = post_pred.posterior_predictive[name].dims\n",
    "        p: np.ndarray = np.random.choice(post_pred.posterior_predictive[name].stack(sample=p_dims).to_numpy(), size, replace=True)\n",
    "            \n",
    "#         p: xarray.core.dataarray.DataArray = post_pred.posterior_predictive[name].mean(sample=('chain', 'draw'))  \n",
    "            \n",
    "        o: np.ndarray = post_pred.observed_data[name].to_numpy()\n",
    "        d[name] = (p,o)  # (predicted, observed)\n",
    "        \n",
    "    # plot observed vs predicted for each estimand\n",
    "    fig, axs = plt.subplots(n)\n",
    "    fig.tight_layout(h_pad=4)\n",
    "    for i, name in enumerate(post_pred.posterior_predictive):\n",
    "\n",
    "        if n > 1:\n",
    "            plt.sca(axs[i])\n",
    "        else:\n",
    "            pass\n",
    "        plt.hist([d[name][0], d[name][1]], label=['predicted', 'observed'], density=True)\n",
    "        plt.xlabel(name)\n",
    "        plt.ylabel(\"density\")\n",
    "        plt.legend()\n",
    "        plt.xticks(rotation=90)\n",
    "        \n",
    "    return d\n",
    "    \n",
    "def plot_posterior_estimates_contrast(trace, pairs=[], kind='kde'):\n",
    "    \"\"\" For each param1, param2 pair in 'pairs' ...\n",
    "            plot distribution of corresponding (param1 - param2) estimates.\n",
    "            \n",
    "        Note: also return each pair contrast. I.e., returned[i] is a contrast dist. corresponding to pairs[i]\n",
    "    \"\"\"\n",
    "    contrasts = []\n",
    "    \n",
    "    fig, axs = plt.subplots(1)\n",
    "    fig.tight_layout()\n",
    "    \n",
    "    # plot contrasts\n",
    "    for i, (x,y) in enumerate(pairs):\n",
    "        \n",
    "        pc = (trace.posterior[x] - trace.posterior[y]).stack(sample=('chain', 'draw')).to_numpy()  # 1D array, dim=chains * draws\n",
    "        az.plot_dist(pc, color=f'C{i}', kind=kind, label=f'{x}-{y}')\n",
    "        \n",
    "        contrasts.append(pc)\n",
    "        \n",
    "    plt.xlabel(f\"posterior estimates contrast\")\n",
    "    plt.ylabel(\"density\")\n",
    "    plt.legend()\n",
    "        \n",
    "    return contrasts\n",
    "        \n",
    "        \n",
    "def plot_posterior_predictions_contrast(model, trace, pairs=[], size=1000)->list:\n",
    "    \"\"\" For each estimand1, estimand2 'pair' in 'pairs' ...\n",
    "            plot the distribution of corresponding (estimand1 - estimand2) samples\n",
    "    \n",
    "        Note: also return each contrast. I.e., returned[i] is a contract dist. corresponding to pairs[i]\n",
    "        where returned 1 is a 1D numpy array\n",
    "    \"\"\"\n",
    "    \n",
    "    returned=[]\n",
    "    \n",
    "    # get posterior predictions\n",
    "    with model:\n",
    "        post_pred = pm.sample_posterior_predictive(trace, extend_inferencedata=False)\n",
    "    preds = {name: post_pred.posterior_predictive[name] for name in post_pred.posterior_predictive} \n",
    "    # NOTE: e.g., preds[var].shape=(chains, draws, datapoints)\n",
    "        \n",
    "    fig, axs = plt.subplots(len(pairs))\n",
    "    fig.tight_layout()\n",
    "    \n",
    "    \n",
    "    for i, (name1, name2) in enumerate(pairs):\n",
    "        \n",
    "        # if more than one plot, set current\n",
    "        try:\n",
    "            plt.sca(axs[i])\n",
    "        except:\n",
    "            pass\n",
    "        \n",
    "        # Note xarray of dims (chain, draw, m) - x array of dims (chain, draw, f) would yield an\n",
    "        # an array of dims (chain, draw, m, f) i.e., all possible differences accross all m,f permutations for a draw, chain combo\n",
    "        # this becomes very slow for larger samples ... hence we just randomnly select some ... and take the diff.\n",
    "        \n",
    "        # plot contrast\n",
    "        sample1 = np.random.choice(preds[name1].stack(sample=(preds[name1].dims)).to_numpy(), size, replace=True)\n",
    "        sample2 = np.random.choice(preds[name2].stack(sample=(preds[name2].dims)).to_numpy(), size, replace=True)\n",
    "        ppc = sample1 - sample2\n",
    "        az.plot_dist(ppc, color='k', plot_kwargs=dict(linewidth=3))\n",
    "        plt.xticks(rotation=90)\n",
    "        \n",
    "        plt.xlabel(f\"({name1}-{name2})\\nposterior prediction contrast\")\n",
    "        plt.ylabel(\"density\")\n",
    "        plt.legend()\n",
    "        \n",
    "        returned.append(ppc)\n",
    "        \n",
    "    return returned\n",
    "\n",
    "def compat_interval(d: np.ndarray, CI=0.89)->tuple[float]:\n",
    "    lb = (1-CI)/2\n",
    "    ub = CI+lb\n",
    "    return '%.3E' % np.quantile(d, lb), '%.3E' % np.quantile(d, ub)\n",
    "\n"
   ]
  },
  {
   "cell_type": "markdown",
   "id": "b44eaaf7-694d-46af-8fc0-731c4d36fde5",
   "metadata": {},
   "source": [
    "### Estimator"
   ]
  },
  {
   "cell_type": "code",
   "execution_count": 18,
   "id": "5c9d409c-4356-4ff5-b613-a59de37ae82b",
   "metadata": {},
   "outputs": [
    {
     "data": {
      "text/plain": [
       "['16_prison_jail_court_lawyer', '37_fat_fat people_weight_obese']"
      ]
     },
     "execution_count": 18,
     "metadata": {},
     "output_type": "execute_result"
    }
   ],
   "source": [
    "RQ1_selected"
   ]
  },
  {
   "cell_type": "code",
   "execution_count": 19,
   "id": "0e700906",
   "metadata": {},
   "outputs": [
    {
     "name": "stderr",
     "output_type": "stream",
     "text": [
      "Auto-assigning NUTS sampler...\n",
      "Initializing NUTS using jitter+adapt_diag...\n",
      "Multiprocess sampling (4 chains in 4 jobs)\n",
      "NUTS: [param]\n"
     ]
    },
    {
     "data": {
      "text/html": [
       "\n",
       "<style>\n",
       "    /* Turns off some styling */\n",
       "    progress {\n",
       "        /* gets rid of default border in Firefox and Opera. */\n",
       "        border: none;\n",
       "        /* Needs to be in here for Safari polyfill so background images work as expected. */\n",
       "        background-size: auto;\n",
       "    }\n",
       "    progress:not([value]), progress:not([value])::-webkit-progress-bar {\n",
       "        background: repeating-linear-gradient(45deg, #7e7e7e, #7e7e7e 10px, #5c5c5c 10px, #5c5c5c 20px);\n",
       "    }\n",
       "    .progress-bar-interrupted, .progress-bar-interrupted::-webkit-progress-bar {\n",
       "        background: #F44336;\n",
       "    }\n",
       "</style>\n"
      ],
      "text/plain": [
       "<IPython.core.display.HTML object>"
      ]
     },
     "metadata": {},
     "output_type": "display_data"
    },
    {
     "data": {
      "text/html": [
       "\n",
       "    <div>\n",
       "      <progress value='8000' class='' max='8000' style='width:300px; height:20px; vertical-align: middle;'></progress>\n",
       "      100.00% [8000/8000 00:00&lt;00:00 Sampling 4 chains, 0 divergences]\n",
       "    </div>\n",
       "    "
      ],
      "text/plain": [
       "<IPython.core.display.HTML object>"
      ]
     },
     "metadata": {},
     "output_type": "display_data"
    },
    {
     "name": "stderr",
     "output_type": "stream",
     "text": [
      "Sampling 4 chains for 1_000 tune and 1_000 draw iterations (4_000 + 4_000 draws total) took 1 seconds.\n",
      "Auto-assigning NUTS sampler...\n",
      "Initializing NUTS using jitter+adapt_diag...\n",
      "Multiprocess sampling (4 chains in 4 jobs)\n",
      "NUTS: [param]\n"
     ]
    },
    {
     "data": {
      "text/html": [
       "\n",
       "<style>\n",
       "    /* Turns off some styling */\n",
       "    progress {\n",
       "        /* gets rid of default border in Firefox and Opera. */\n",
       "        border: none;\n",
       "        /* Needs to be in here for Safari polyfill so background images work as expected. */\n",
       "        background-size: auto;\n",
       "    }\n",
       "    progress:not([value]), progress:not([value])::-webkit-progress-bar {\n",
       "        background: repeating-linear-gradient(45deg, #7e7e7e, #7e7e7e 10px, #5c5c5c 10px, #5c5c5c 20px);\n",
       "    }\n",
       "    .progress-bar-interrupted, .progress-bar-interrupted::-webkit-progress-bar {\n",
       "        background: #F44336;\n",
       "    }\n",
       "</style>\n"
      ],
      "text/plain": [
       "<IPython.core.display.HTML object>"
      ]
     },
     "metadata": {},
     "output_type": "display_data"
    },
    {
     "data": {
      "text/html": [
       "\n",
       "    <div>\n",
       "      <progress value='8000' class='' max='8000' style='width:300px; height:20px; vertical-align: middle;'></progress>\n",
       "      100.00% [8000/8000 00:00&lt;00:00 Sampling 4 chains, 0 divergences]\n",
       "    </div>\n",
       "    "
      ],
      "text/plain": [
       "<IPython.core.display.HTML object>"
      ]
     },
     "metadata": {},
     "output_type": "display_data"
    },
    {
     "name": "stderr",
     "output_type": "stream",
     "text": [
      "Sampling 4 chains for 1_000 tune and 1_000 draw iterations (4_000 + 4_000 draws total) took 1 seconds.\n",
      "Auto-assigning NUTS sampler...\n",
      "Initializing NUTS using jitter+adapt_diag...\n",
      "Multiprocess sampling (4 chains in 4 jobs)\n",
      "NUTS: [param]\n"
     ]
    },
    {
     "data": {
      "text/html": [
       "\n",
       "<style>\n",
       "    /* Turns off some styling */\n",
       "    progress {\n",
       "        /* gets rid of default border in Firefox and Opera. */\n",
       "        border: none;\n",
       "        /* Needs to be in here for Safari polyfill so background images work as expected. */\n",
       "        background-size: auto;\n",
       "    }\n",
       "    progress:not([value]), progress:not([value])::-webkit-progress-bar {\n",
       "        background: repeating-linear-gradient(45deg, #7e7e7e, #7e7e7e 10px, #5c5c5c 10px, #5c5c5c 20px);\n",
       "    }\n",
       "    .progress-bar-interrupted, .progress-bar-interrupted::-webkit-progress-bar {\n",
       "        background: #F44336;\n",
       "    }\n",
       "</style>\n"
      ],
      "text/plain": [
       "<IPython.core.display.HTML object>"
      ]
     },
     "metadata": {},
     "output_type": "display_data"
    },
    {
     "data": {
      "text/html": [
       "\n",
       "    <div>\n",
       "      <progress value='8000' class='' max='8000' style='width:300px; height:20px; vertical-align: middle;'></progress>\n",
       "      100.00% [8000/8000 00:00&lt;00:00 Sampling 4 chains, 0 divergences]\n",
       "    </div>\n",
       "    "
      ],
      "text/plain": [
       "<IPython.core.display.HTML object>"
      ]
     },
     "metadata": {},
     "output_type": "display_data"
    },
    {
     "name": "stderr",
     "output_type": "stream",
     "text": [
      "Sampling 4 chains for 1_000 tune and 1_000 draw iterations (4_000 + 4_000 draws total) took 1 seconds.\n"
     ]
    },
    {
     "name": "stdout",
     "output_type": "stream",
     "text": [
      "16_prison_jail_court_lawyer poor/rich 0.5607095472021207 0.7050829011784606\n",
      "16_prison_jail_court_lawyer poor/neutral 1.562027052380525 1.9351773935908387\n",
      "16_prison_jail_court_lawyer rich/neutral 2.522754451446042 2.9930481992105147\n"
     ]
    },
    {
     "name": "stderr",
     "output_type": "stream",
     "text": [
      "Auto-assigning NUTS sampler...\n",
      "Initializing NUTS using jitter+adapt_diag...\n",
      "Multiprocess sampling (4 chains in 4 jobs)\n",
      "NUTS: [param]\n"
     ]
    },
    {
     "data": {
      "text/html": [
       "\n",
       "<style>\n",
       "    /* Turns off some styling */\n",
       "    progress {\n",
       "        /* gets rid of default border in Firefox and Opera. */\n",
       "        border: none;\n",
       "        /* Needs to be in here for Safari polyfill so background images work as expected. */\n",
       "        background-size: auto;\n",
       "    }\n",
       "    progress:not([value]), progress:not([value])::-webkit-progress-bar {\n",
       "        background: repeating-linear-gradient(45deg, #7e7e7e, #7e7e7e 10px, #5c5c5c 10px, #5c5c5c 20px);\n",
       "    }\n",
       "    .progress-bar-interrupted, .progress-bar-interrupted::-webkit-progress-bar {\n",
       "        background: #F44336;\n",
       "    }\n",
       "</style>\n"
      ],
      "text/plain": [
       "<IPython.core.display.HTML object>"
      ]
     },
     "metadata": {},
     "output_type": "display_data"
    },
    {
     "data": {
      "text/html": [
       "\n",
       "    <div>\n",
       "      <progress value='8000' class='' max='8000' style='width:300px; height:20px; vertical-align: middle;'></progress>\n",
       "      100.00% [8000/8000 00:00&lt;00:00 Sampling 4 chains, 0 divergences]\n",
       "    </div>\n",
       "    "
      ],
      "text/plain": [
       "<IPython.core.display.HTML object>"
      ]
     },
     "metadata": {},
     "output_type": "display_data"
    },
    {
     "name": "stderr",
     "output_type": "stream",
     "text": [
      "Sampling 4 chains for 1_000 tune and 1_000 draw iterations (4_000 + 4_000 draws total) took 1 seconds.\n",
      "Auto-assigning NUTS sampler...\n",
      "Initializing NUTS using jitter+adapt_diag...\n",
      "Multiprocess sampling (4 chains in 4 jobs)\n",
      "NUTS: [param]\n"
     ]
    },
    {
     "data": {
      "text/html": [
       "\n",
       "<style>\n",
       "    /* Turns off some styling */\n",
       "    progress {\n",
       "        /* gets rid of default border in Firefox and Opera. */\n",
       "        border: none;\n",
       "        /* Needs to be in here for Safari polyfill so background images work as expected. */\n",
       "        background-size: auto;\n",
       "    }\n",
       "    progress:not([value]), progress:not([value])::-webkit-progress-bar {\n",
       "        background: repeating-linear-gradient(45deg, #7e7e7e, #7e7e7e 10px, #5c5c5c 10px, #5c5c5c 20px);\n",
       "    }\n",
       "    .progress-bar-interrupted, .progress-bar-interrupted::-webkit-progress-bar {\n",
       "        background: #F44336;\n",
       "    }\n",
       "</style>\n"
      ],
      "text/plain": [
       "<IPython.core.display.HTML object>"
      ]
     },
     "metadata": {},
     "output_type": "display_data"
    },
    {
     "data": {
      "text/html": [
       "\n",
       "    <div>\n",
       "      <progress value='8000' class='' max='8000' style='width:300px; height:20px; vertical-align: middle;'></progress>\n",
       "      100.00% [8000/8000 00:00&lt;00:00 Sampling 4 chains, 0 divergences]\n",
       "    </div>\n",
       "    "
      ],
      "text/plain": [
       "<IPython.core.display.HTML object>"
      ]
     },
     "metadata": {},
     "output_type": "display_data"
    },
    {
     "name": "stderr",
     "output_type": "stream",
     "text": [
      "Sampling 4 chains for 1_000 tune and 1_000 draw iterations (4_000 + 4_000 draws total) took 1 seconds.\n",
      "Auto-assigning NUTS sampler...\n",
      "Initializing NUTS using jitter+adapt_diag...\n",
      "Multiprocess sampling (4 chains in 4 jobs)\n",
      "NUTS: [param]\n"
     ]
    },
    {
     "data": {
      "text/html": [
       "\n",
       "<style>\n",
       "    /* Turns off some styling */\n",
       "    progress {\n",
       "        /* gets rid of default border in Firefox and Opera. */\n",
       "        border: none;\n",
       "        /* Needs to be in here for Safari polyfill so background images work as expected. */\n",
       "        background-size: auto;\n",
       "    }\n",
       "    progress:not([value]), progress:not([value])::-webkit-progress-bar {\n",
       "        background: repeating-linear-gradient(45deg, #7e7e7e, #7e7e7e 10px, #5c5c5c 10px, #5c5c5c 20px);\n",
       "    }\n",
       "    .progress-bar-interrupted, .progress-bar-interrupted::-webkit-progress-bar {\n",
       "        background: #F44336;\n",
       "    }\n",
       "</style>\n"
      ],
      "text/plain": [
       "<IPython.core.display.HTML object>"
      ]
     },
     "metadata": {},
     "output_type": "display_data"
    },
    {
     "data": {
      "text/html": [
       "\n",
       "    <div>\n",
       "      <progress value='8000' class='' max='8000' style='width:300px; height:20px; vertical-align: middle;'></progress>\n",
       "      100.00% [8000/8000 00:00&lt;00:00 Sampling 4 chains, 0 divergences]\n",
       "    </div>\n",
       "    "
      ],
      "text/plain": [
       "<IPython.core.display.HTML object>"
      ]
     },
     "metadata": {},
     "output_type": "display_data"
    },
    {
     "name": "stderr",
     "output_type": "stream",
     "text": [
      "Sampling 4 chains for 1_000 tune and 1_000 draw iterations (4_000 + 4_000 draws total) took 1 seconds.\n"
     ]
    },
    {
     "name": "stdout",
     "output_type": "stream",
     "text": [
      "37_fat_fat people_weight_obese poor/rich 1.3274526176029844 1.810156623658033\n",
      "37_fat_fat people_weight_obese poor/neutral 1.9269675172743528 2.4979015832326983\n",
      "37_fat_fat people_weight_obese rich/neutral 1.2171940340663852 1.6032836426456374\n"
     ]
    }
   ],
   "source": [
    "def estimator(n, s):\n",
    "    \n",
    "    with pm.Model() as model:\n",
    "                    \n",
    "        # prior\n",
    "        param = pm.LogitNormal(f'param', 0, 1.5)\n",
    "        \n",
    "        # likelihood\n",
    "        pm.Binomial(f\"likelihood\", n = n , p=param, observed=s)\n",
    "        \n",
    "        trace=pm.sample()\n",
    "        \n",
    "    return model, trace\n",
    "\n",
    "\n",
    "# test\n",
    "for name in RQ1_selected:\n",
    "\n",
    "    # poor\n",
    "    n = len(df_topic.loc[(df_topic.loc[:, 'index'].isin(poor_indices_pure)), :])\n",
    "    s = len(df_topic.loc[(df_topic.loc[:, 'index'].isin(poor_indices_pure)) & (df_topic.loc[:, 'Name']==name), :])\n",
    "    model_poor, trace_poor = estimator(n, s);\n",
    "    p_poor = trace_poor.posterior[f'param'].stack(sample=('chain', 'draw')).to_numpy()  # 1D array, dim=chains * draws\n",
    "\n",
    "    # rich\n",
    "    n = len(df_topic.loc[(df_topic.loc[:, 'index'].isin(rich_indices_pure)), :])\n",
    "    s = len(df_topic.loc[(df_topic.loc[:, 'index'].isin(rich_indices_pure)) & (df_topic.loc[:, 'Name']==name), :])\n",
    "    model_rich, trace_rich = estimator(n, s);\n",
    "    p_rich = trace_rich.posterior[f'param'].stack(sample=('chain', 'draw')).to_numpy()  # 1D array, dim=chains * draws\n",
    "    \n",
    "    # neutral\n",
    "    n = len(df_topic.loc[(df_topic.loc[:, 'index'].isin(neutral_indices)), :])\n",
    "    s = len(df_topic.loc[(df_topic.loc[:, 'index'].isin(neutral_indices)) & (df_topic.loc[:, 'Name']==name), :])\n",
    "    model_neutral, trace_neutral = estimator(n, s);\n",
    "    p_neutral = trace_neutral.posterior[f'param'].stack(sample=('chain', 'draw')).to_numpy()  # 1D array, dim=chains * draws\n",
    "    \n",
    "    ## posterior contrasts\n",
    "\n",
    "    pc_poor_rich = p_poor / p_rich\n",
    "    print(name, 'poor/rich', np.percentile(pc_poor_rich, 0.05), np.percentile(pc_poor_rich,99.5))\n",
    "          \n",
    "    pc_poor_neutral = p_poor / p_neutral\n",
    "    print(name, 'poor/neutral', np.percentile(pc_poor_neutral, 0.05), np.percentile(pc_poor_neutral,99.5))\n",
    "    \n",
    "    pc_rich_neutral = p_rich / p_neutral\n",
    "    print(name, 'rich/neutral', np.percentile(pc_rich_neutral, 0.05), np.percentile(pc_rich_neutral,99.5))\n"
   ]
  },
  {
   "cell_type": "markdown",
   "id": "5ec43d2d",
   "metadata": {},
   "source": [
    "### Plot"
   ]
  },
  {
   "cell_type": "code",
   "execution_count": 80,
   "id": "c68aed3d",
   "metadata": {
    "scrolled": true
   },
   "outputs": [
    {
     "data": {
      "image/png": "[encoded data removed]",
      "text/plain": [
       "<Figure size 640x480 with 1 Axes>"
      ]
     },
     "metadata": {},
     "output_type": "display_data"
    }
   ],
   "source": [
    "# fig, axs = plt.subplots(len(topics_), figsize=[10,10])\n",
    "\n",
    "fig, ax = plt.subplots()\n",
    "\n",
    "# get 99% CI as lower bound and upper bound\n",
    "bars = []\n",
    "for i, (tl, tn) in enumerate(topics_):\n",
    "    \n",
    "    # get contrasts\n",
    "    p_poor = trace.posterior[f'p_poor_{tl}'].stack(sample=('chain', 'draw')).to_numpy()  # 1D array, dim=chains * draws\n",
    "    p_rich = trace.posterior[f'p_rich_{tl}'].stack(sample=('chain', 'draw')).to_numpy()  # 1D array, dim=chains * draws\n",
    "\n",
    "    pc = p_poor/p_rich\n",
    "    bars.append([np.percentile(pc, 0.05), np.percentile(pc,99.5), i, tl])\n",
    "\n",
    "# Plot each bar\n",
    "for bar in bars:\n",
    "    # Extract coordinates for each bar and its height\n",
    "    x1, x2, y, label= bar\n",
    "    width = x2 - x1\n",
    "    ax.barh(y, width, left=x1, color='black', height=0.1, label=label )\n",
    "\n",
    "    if tl in ['mental health']:\n",
    "        ax.text(x2*1.1, y, label, ha='right', va='center', color='black')\n",
    "    else:\n",
    "        ax.text(x2*1.1, y, label, ha='left', va='center', color='black')"
   ]
  },
  {
   "cell_type": "code",
   "execution_count": null,
   "id": "9f3e1e89-32c9-4042-b09c-6dff8577fa42",
   "metadata": {},
   "outputs": [],
   "source": []
  },
  {
   "cell_type": "code",
   "execution_count": null,
   "id": "b794ee69-4a0e-480e-a97b-02b68aff2572",
   "metadata": {},
   "outputs": [],
   "source": []
  }
 ],
 "metadata": {
  "kernelspec": {
   "display_name": "Python 3 (ipykernel)",
   "language": "python",
   "name": "python3"
  },
  "language_info": {
   "codemirror_mode": {
    "name": "ipython",
    "version": 3
   },
   "file_extension": ".py",
   "mimetype": "text/x-python",
   "name": "python",
   "nbconvert_exporter": "python",
   "pygments_lexer": "ipython3",
   "version": "3.10.8"
  }
 },
 "nbformat": 4,
 "nbformat_minor": 5
}
